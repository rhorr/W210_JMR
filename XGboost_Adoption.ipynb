{
 "cells": [
  {
   "cell_type": "code",
   "execution_count": null,
   "id": "f3de571b-50c8-45ab-9c3c-f4d6346769f0",
   "metadata": {},
   "outputs": [],
   "source": [
    "#Note: Used references from Billy Fong (TA for DS210), as well as AWS references:\n",
    "#https://sagemaker-examples.readthedocs.io/en/latest/introduction_to_amazon_algorithms/xgboost_abalone/xgboost_managed_spot_training.html"
   ]
  },
  {
   "cell_type": "code",
   "execution_count": null,
   "id": "339d0899-5ba8-44d3-93c9-ef83d86df1bf",
   "metadata": {},
   "outputs": [],
   "source": [
    "#Note: only needed on initial install\n",
    "#!pip install --upgrade sagemaker"
   ]
  },
  {
   "cell_type": "markdown",
   "id": "50b09da4-68fd-4b38-9fdd-8337b445659f",
   "metadata": {},
   "source": [
    "## Setting up environment"
   ]
  },
  {
   "cell_type": "code",
   "execution_count": 2,
   "id": "56e19ead-24e3-4049-a218-11450e1ef27b",
   "metadata": {
    "execution": {
     "iopub.execute_input": "2025-07-08T19:39:45.976783Z",
     "iopub.status.busy": "2025-07-08T19:39:45.976524Z",
     "iopub.status.idle": "2025-07-08T19:39:45.979766Z",
     "shell.execute_reply": "2025-07-08T19:39:45.979309Z",
     "shell.execute_reply.started": "2025-07-08T19:39:45.976765Z"
    }
   },
   "outputs": [],
   "source": [
    "#Importing key packages\n",
    "import io\n",
    "import os\n",
    "import boto3\n",
    "import sagemaker\n",
    "import time\n",
    "import botocore\n",
    "from sagemaker import get_execution_role, image_uris, model_uris, script_uris, hyperparameters\n",
    "from sagemaker.estimator import Estimator\n",
    "from sagemaker.utils import name_from_base\n",
    "from sagemaker.tuner import HyperparameterTuner\n",
    "from time import gmtime, strftime\n",
    "import matplotlib as plt\n",
    "import numpy as np\n",
    "import pandas as pd\n"
   ]
  },
  {
   "cell_type": "code",
   "execution_count": 3,
   "id": "8f8c2b28-3442-4e30-96a6-c4beb4cf27ab",
   "metadata": {
    "execution": {
     "iopub.execute_input": "2025-07-08T19:39:47.253480Z",
     "iopub.status.busy": "2025-07-08T19:39:47.253156Z",
     "iopub.status.idle": "2025-07-08T19:39:47.506888Z",
     "shell.execute_reply": "2025-07-08T19:39:47.506363Z",
     "shell.execute_reply.started": "2025-07-08T19:39:47.253459Z"
    }
   },
   "outputs": [
    {
     "name": "stdout",
     "output_type": "stream",
     "text": [
      "Role: arn:aws:iam::917456409349:role/Sagemaker_Execution_Role\n",
      "Region: us-east-2\n",
      "SageMaker Session Region: us-east-2\n"
     ]
    }
   ],
   "source": [
    "#Setting up\n",
    "\n",
    "role = sagemaker.get_execution_role()\n",
    "boto_session = boto3.Session()\n",
    "region = boto_session.region_name\n",
    "sess = sagemaker.Session(boto_session=boto_session)\n",
    "\n",
    "print(\"Role:\", role)\n",
    "print(\"Region:\", region)\n",
    "print(\"SageMaker Session Region:\", sess.boto_region_name)"
   ]
  },
  {
   "cell_type": "code",
   "execution_count": 4,
   "id": "f36d60fc-5c16-4585-b75d-7bebe5728407",
   "metadata": {
    "execution": {
     "iopub.execute_input": "2025-07-08T19:39:48.463625Z",
     "iopub.status.busy": "2025-07-08T19:39:48.463305Z",
     "iopub.status.idle": "2025-07-08T19:39:49.084782Z",
     "shell.execute_reply": "2025-07-08T19:39:49.084287Z",
     "shell.execute_reply.started": "2025-07-08T19:39:48.463605Z"
    }
   },
   "outputs": [],
   "source": [
    "#Setting up Bucket Links/Info\n",
    "bucket=sagemaker.Session().default_bucket()\n",
    "s3_bucket_prefix= \"sagemaker/adoption\"\n",
    "default_bucket_prefix = sagemaker.Session().default_bucket_prefix\n",
    "\n",
    "if default_bucket_prefix:\n",
    "    prefix = f\"{default_bucket_prefix}/{s3_bucket_prefix}\"\n",
    "else:\n",
    "    prefix=s3_bucket_prefix"
   ]
  },
  {
   "cell_type": "code",
   "execution_count": 5,
   "id": "ea0aa1e4-cc7f-465a-aed5-7cbcec1c1ed7",
   "metadata": {
    "execution": {
     "iopub.execute_input": "2025-07-08T19:39:50.727555Z",
     "iopub.status.busy": "2025-07-08T19:39:50.727232Z",
     "iopub.status.idle": "2025-07-08T19:39:50.733213Z",
     "shell.execute_reply": "2025-07-08T19:39:50.732685Z",
     "shell.execute_reply.started": "2025-07-08T19:39:50.727534Z"
    }
   },
   "outputs": [
    {
     "data": {
      "text/plain": [
       "'sagemaker/adoption'"
      ]
     },
     "execution_count": 5,
     "metadata": {},
     "output_type": "execute_result"
    }
   ],
   "source": [
    "prefix"
   ]
  },
  {
   "cell_type": "code",
   "execution_count": 6,
   "id": "01705819-81d0-4503-b609-29f341c15ea7",
   "metadata": {
    "execution": {
     "iopub.execute_input": "2025-07-08T19:39:51.634116Z",
     "iopub.status.busy": "2025-07-08T19:39:51.633535Z",
     "iopub.status.idle": "2025-07-08T19:39:51.656904Z",
     "shell.execute_reply": "2025-07-08T19:39:51.656439Z",
     "shell.execute_reply.started": "2025-07-08T19:39:51.634095Z"
    }
   },
   "outputs": [],
   "source": [
    "#Set Container\n",
    "container = sagemaker.image_uris.retrieve(\"xgboost\", region, \"1.7-1\")\n"
   ]
  },
  {
   "cell_type": "markdown",
   "id": "d74a9d64-e69e-404d-8fda-292741c0b482",
   "metadata": {},
   "source": [
    "## Ingesting Data and splitting/training/test"
   ]
  },
  {
   "cell_type": "code",
   "execution_count": 7,
   "id": "653e822e-aae7-47a5-ba5b-46ea9b764dae",
   "metadata": {
    "execution": {
     "iopub.execute_input": "2025-07-08T19:39:54.375601Z",
     "iopub.status.busy": "2025-07-08T19:39:54.375282Z",
     "iopub.status.idle": "2025-07-08T19:39:56.497071Z",
     "shell.execute_reply": "2025-07-08T19:39:56.496542Z",
     "shell.execute_reply.started": "2025-07-08T19:39:54.375581Z"
    }
   },
   "outputs": [
    {
     "name": "stderr",
     "output_type": "stream",
     "text": [
      "/tmp/ipykernel_565/1991622553.py:13: DtypeWarning: Columns (0,1,2,3,4,7,10,11,12,13,14,16,18,20,25,26,27,28,32,34,35,36,38,43) have mixed types. Specify dtype option on import or set low_memory=False.\n",
      "  df = pd.read_csv(io.BytesIO(obj['Body'].read()))\n"
     ]
    },
    {
     "data": {
      "text/html": [
       "<div>\n",
       "<style scoped>\n",
       "    .dataframe tbody tr th:only-of-type {\n",
       "        vertical-align: middle;\n",
       "    }\n",
       "\n",
       "    .dataframe tbody tr th {\n",
       "        vertical-align: top;\n",
       "    }\n",
       "\n",
       "    .dataframe thead th {\n",
       "        text-align: right;\n",
       "    }\n",
       "</style>\n",
       "<table border=\"1\" class=\"dataframe\">\n",
       "  <thead>\n",
       "    <tr style=\"text-align: right;\">\n",
       "      <th></th>\n",
       "      <th>dob</th>\n",
       "      <th>returnedreason</th>\n",
       "      <th>intake_is_dead</th>\n",
       "      <th>return_date</th>\n",
       "      <th>intake_condition</th>\n",
       "      <th>was_outcome_alive</th>\n",
       "      <th>intake_date</th>\n",
       "      <th>animalage</th>\n",
       "      <th>animal_name</th>\n",
       "      <th>primary_color</th>\n",
       "      <th>...</th>\n",
       "      <th>stay_length_days</th>\n",
       "      <th>Num_returned</th>\n",
       "      <th>Is_returned</th>\n",
       "      <th>age_months</th>\n",
       "      <th>outcome_type_grouped</th>\n",
       "      <th>primary_color_final</th>\n",
       "      <th>outcome_type_final</th>\n",
       "      <th>intake_condition_final</th>\n",
       "      <th>intake_type_final</th>\n",
       "      <th>outcome_type_final_grouped</th>\n",
       "    </tr>\n",
       "  </thead>\n",
       "  <tbody>\n",
       "    <tr>\n",
       "      <th>0</th>\n",
       "      <td>NaN</td>\n",
       "      <td>Owner requested Euthanasia</td>\n",
       "      <td>NaN</td>\n",
       "      <td>10/31/2024 12:00:00 AM</td>\n",
       "      <td>NaN</td>\n",
       "      <td>NaN</td>\n",
       "      <td>2009-11-28 00:00:00</td>\n",
       "      <td>15 years 1 month.</td>\n",
       "      <td>Jadzia</td>\n",
       "      <td>Tortoiseshell</td>\n",
       "      <td>...</td>\n",
       "      <td>2723.0</td>\n",
       "      <td>0</td>\n",
       "      <td>no</td>\n",
       "      <td>NaN</td>\n",
       "      <td>adoption</td>\n",
       "      <td>UNKNOWN</td>\n",
       "      <td>ADOPTION</td>\n",
       "      <td>NAN</td>\n",
       "      <td>OWNER SURRENDER</td>\n",
       "      <td>adopted</td>\n",
       "    </tr>\n",
       "    <tr>\n",
       "      <th>1</th>\n",
       "      <td>NaN</td>\n",
       "      <td>Stray</td>\n",
       "      <td>NaN</td>\n",
       "      <td>NaN</td>\n",
       "      <td>NaN</td>\n",
       "      <td>NaN</td>\n",
       "      <td>2009-12-08 00:00:00</td>\n",
       "      <td>14 years 0 months.</td>\n",
       "      <td>Gonzo</td>\n",
       "      <td>Tan</td>\n",
       "      <td>...</td>\n",
       "      <td>2694.0</td>\n",
       "      <td>0</td>\n",
       "      <td>no</td>\n",
       "      <td>NaN</td>\n",
       "      <td>adoption</td>\n",
       "      <td>TAN</td>\n",
       "      <td>ADOPTION</td>\n",
       "      <td>NAN</td>\n",
       "      <td>OWNER SURRENDER</td>\n",
       "      <td>adopted</td>\n",
       "    </tr>\n",
       "    <tr>\n",
       "      <th>2</th>\n",
       "      <td>NaN</td>\n",
       "      <td>Stray</td>\n",
       "      <td>NaN</td>\n",
       "      <td>2020-02-28 00:00:00</td>\n",
       "      <td>NaN</td>\n",
       "      <td>NaN</td>\n",
       "      <td>2012-08-10 00:00:00</td>\n",
       "      <td>12 years 1 month.</td>\n",
       "      <td>Maggie</td>\n",
       "      <td>Black and Tan</td>\n",
       "      <td>...</td>\n",
       "      <td>1709.0</td>\n",
       "      <td>0</td>\n",
       "      <td>no</td>\n",
       "      <td>NaN</td>\n",
       "      <td>adoption</td>\n",
       "      <td>BLACK TAN</td>\n",
       "      <td>ADOPTION</td>\n",
       "      <td>NAN</td>\n",
       "      <td>OWNER SURRENDER</td>\n",
       "      <td>adopted</td>\n",
       "    </tr>\n",
       "    <tr>\n",
       "      <th>3</th>\n",
       "      <td>NaN</td>\n",
       "      <td>Stray</td>\n",
       "      <td>NaN</td>\n",
       "      <td>2023-11-06 00:00:00</td>\n",
       "      <td>NaN</td>\n",
       "      <td>NaN</td>\n",
       "      <td>2020-02-28 00:00:00</td>\n",
       "      <td>12 years 1 month.</td>\n",
       "      <td>Maggie</td>\n",
       "      <td>Black and Tan</td>\n",
       "      <td>...</td>\n",
       "      <td>1.0</td>\n",
       "      <td>1</td>\n",
       "      <td>yes</td>\n",
       "      <td>NaN</td>\n",
       "      <td>other_outcome</td>\n",
       "      <td>BLACK TAN</td>\n",
       "      <td>RETURN TO OWNER</td>\n",
       "      <td>NAN</td>\n",
       "      <td>OWNER SURRENDER</td>\n",
       "      <td>adopted</td>\n",
       "    </tr>\n",
       "    <tr>\n",
       "      <th>4</th>\n",
       "      <td>NaN</td>\n",
       "      <td>Stray</td>\n",
       "      <td>NaN</td>\n",
       "      <td>NaN</td>\n",
       "      <td>NaN</td>\n",
       "      <td>NaN</td>\n",
       "      <td>2023-11-06 00:00:00</td>\n",
       "      <td>12 years 1 month.</td>\n",
       "      <td>Maggie</td>\n",
       "      <td>Black and Tan</td>\n",
       "      <td>...</td>\n",
       "      <td>41.0</td>\n",
       "      <td>2</td>\n",
       "      <td>yes</td>\n",
       "      <td>NaN</td>\n",
       "      <td>adoption</td>\n",
       "      <td>BLACK TAN</td>\n",
       "      <td>ADOPTION</td>\n",
       "      <td>NAN</td>\n",
       "      <td>OWNER SURRENDER</td>\n",
       "      <td>adopted</td>\n",
       "    </tr>\n",
       "  </tbody>\n",
       "</table>\n",
       "<p>5 rows × 57 columns</p>\n",
       "</div>"
      ],
      "text/plain": [
       "   dob              returnedreason intake_is_dead             return_date  \\\n",
       "0  NaN  Owner requested Euthanasia            NaN  10/31/2024 12:00:00 AM   \n",
       "1  NaN                       Stray            NaN                     NaN   \n",
       "2  NaN                       Stray            NaN     2020-02-28 00:00:00   \n",
       "3  NaN                       Stray            NaN     2023-11-06 00:00:00   \n",
       "4  NaN                       Stray            NaN                     NaN   \n",
       "\n",
       "  intake_condition  was_outcome_alive          intake_date  \\\n",
       "0              NaN                NaN  2009-11-28 00:00:00   \n",
       "1              NaN                NaN  2009-12-08 00:00:00   \n",
       "2              NaN                NaN  2012-08-10 00:00:00   \n",
       "3              NaN                NaN  2020-02-28 00:00:00   \n",
       "4              NaN                NaN  2023-11-06 00:00:00   \n",
       "\n",
       "            animalage animal_name  primary_color  ... stay_length_days  \\\n",
       "0   15 years 1 month.      Jadzia  Tortoiseshell  ...           2723.0   \n",
       "1  14 years 0 months.       Gonzo            Tan  ...           2694.0   \n",
       "2   12 years 1 month.      Maggie  Black and Tan  ...           1709.0   \n",
       "3   12 years 1 month.      Maggie  Black and Tan  ...              1.0   \n",
       "4   12 years 1 month.      Maggie  Black and Tan  ...             41.0   \n",
       "\n",
       "  Num_returned Is_returned age_months outcome_type_grouped  \\\n",
       "0            0          no        NaN             adoption   \n",
       "1            0          no        NaN             adoption   \n",
       "2            0          no        NaN             adoption   \n",
       "3            1         yes        NaN        other_outcome   \n",
       "4            2         yes        NaN             adoption   \n",
       "\n",
       "   primary_color_final outcome_type_final intake_condition_final  \\\n",
       "0              UNKNOWN           ADOPTION                    NAN   \n",
       "1                  TAN           ADOPTION                    NAN   \n",
       "2            BLACK TAN           ADOPTION                    NAN   \n",
       "3            BLACK TAN    RETURN TO OWNER                    NAN   \n",
       "4            BLACK TAN           ADOPTION                    NAN   \n",
       "\n",
       "  intake_type_final  outcome_type_final_grouped  \n",
       "0   OWNER SURRENDER                     adopted  \n",
       "1   OWNER SURRENDER                     adopted  \n",
       "2   OWNER SURRENDER                     adopted  \n",
       "3   OWNER SURRENDER                     adopted  \n",
       "4   OWNER SURRENDER                     adopted  \n",
       "\n",
       "[5 rows x 57 columns]"
      ]
     },
     "execution_count": 7,
     "metadata": {},
     "output_type": "execute_result"
    }
   ],
   "source": [
    "#Load Source file to do encoding and split train/test\n",
    "\n",
    "bucket = \"sagemaker-us-east-2-917456409349\"\n",
    "key = \"sagemaker/adoption/harmonized_source_data/df_cat_dog_harmonized.csv\" #Edit: Have to update this with new data source\n",
    "\n",
    "# Initialize S3 client\n",
    "s3_client = boto3.client(\"s3\")\n",
    "\n",
    "# Fetch the object from S3\n",
    "obj = s3_client.get_object(Bucket=bucket, Key=key)\n",
    "\n",
    "# Read into pandas DataFrame\n",
    "df = pd.read_csv(io.BytesIO(obj['Body'].read()))\n",
    "\n",
    "# Show the first few rows\n",
    "df.head()"
   ]
  },
  {
   "cell_type": "code",
   "execution_count": 8,
   "id": "27124f25-8ff2-4e9c-9581-8c14d7431d0e",
   "metadata": {
    "execution": {
     "iopub.execute_input": "2025-07-08T19:39:57.803871Z",
     "iopub.status.busy": "2025-07-08T19:39:57.803547Z",
     "iopub.status.idle": "2025-07-08T19:39:57.887990Z",
     "shell.execute_reply": "2025-07-08T19:39:57.887503Z",
     "shell.execute_reply.started": "2025-07-08T19:39:57.803852Z"
    }
   },
   "outputs": [
    {
     "data": {
      "text/html": [
       "<div>\n",
       "<style scoped>\n",
       "    .dataframe tbody tr th:only-of-type {\n",
       "        vertical-align: middle;\n",
       "    }\n",
       "\n",
       "    .dataframe tbody tr th {\n",
       "        vertical-align: top;\n",
       "    }\n",
       "\n",
       "    .dataframe thead th {\n",
       "        text-align: right;\n",
       "    }\n",
       "</style>\n",
       "<table border=\"1\" class=\"dataframe\">\n",
       "  <thead>\n",
       "    <tr style=\"text-align: right;\">\n",
       "      <th></th>\n",
       "      <th>outcome_type_final_grouped</th>\n",
       "      <th>dob</th>\n",
       "      <th>returnedreason</th>\n",
       "      <th>intake_is_dead</th>\n",
       "      <th>return_date</th>\n",
       "      <th>intake_condition</th>\n",
       "      <th>was_outcome_alive</th>\n",
       "      <th>intake_date</th>\n",
       "      <th>animalage</th>\n",
       "      <th>animal_name</th>\n",
       "      <th>...</th>\n",
       "      <th>has_name</th>\n",
       "      <th>stay_length_days</th>\n",
       "      <th>Num_returned</th>\n",
       "      <th>Is_returned</th>\n",
       "      <th>age_months</th>\n",
       "      <th>outcome_type_grouped</th>\n",
       "      <th>primary_color_final</th>\n",
       "      <th>outcome_type_final</th>\n",
       "      <th>intake_condition_final</th>\n",
       "      <th>intake_type_final</th>\n",
       "    </tr>\n",
       "  </thead>\n",
       "  <tbody>\n",
       "    <tr>\n",
       "      <th>0</th>\n",
       "      <td>adopted</td>\n",
       "      <td>NaN</td>\n",
       "      <td>Owner requested Euthanasia</td>\n",
       "      <td>NaN</td>\n",
       "      <td>10/31/2024 12:00:00 AM</td>\n",
       "      <td>NaN</td>\n",
       "      <td>NaN</td>\n",
       "      <td>2009-11-28 00:00:00</td>\n",
       "      <td>15 years 1 month.</td>\n",
       "      <td>Jadzia</td>\n",
       "      <td>...</td>\n",
       "      <td>1</td>\n",
       "      <td>2723.0</td>\n",
       "      <td>0</td>\n",
       "      <td>no</td>\n",
       "      <td>NaN</td>\n",
       "      <td>adoption</td>\n",
       "      <td>UNKNOWN</td>\n",
       "      <td>ADOPTION</td>\n",
       "      <td>NAN</td>\n",
       "      <td>OWNER SURRENDER</td>\n",
       "    </tr>\n",
       "    <tr>\n",
       "      <th>1</th>\n",
       "      <td>adopted</td>\n",
       "      <td>NaN</td>\n",
       "      <td>Stray</td>\n",
       "      <td>NaN</td>\n",
       "      <td>NaN</td>\n",
       "      <td>NaN</td>\n",
       "      <td>NaN</td>\n",
       "      <td>2009-12-08 00:00:00</td>\n",
       "      <td>14 years 0 months.</td>\n",
       "      <td>Gonzo</td>\n",
       "      <td>...</td>\n",
       "      <td>1</td>\n",
       "      <td>2694.0</td>\n",
       "      <td>0</td>\n",
       "      <td>no</td>\n",
       "      <td>NaN</td>\n",
       "      <td>adoption</td>\n",
       "      <td>TAN</td>\n",
       "      <td>ADOPTION</td>\n",
       "      <td>NAN</td>\n",
       "      <td>OWNER SURRENDER</td>\n",
       "    </tr>\n",
       "    <tr>\n",
       "      <th>2</th>\n",
       "      <td>adopted</td>\n",
       "      <td>NaN</td>\n",
       "      <td>Stray</td>\n",
       "      <td>NaN</td>\n",
       "      <td>2020-02-28 00:00:00</td>\n",
       "      <td>NaN</td>\n",
       "      <td>NaN</td>\n",
       "      <td>2012-08-10 00:00:00</td>\n",
       "      <td>12 years 1 month.</td>\n",
       "      <td>Maggie</td>\n",
       "      <td>...</td>\n",
       "      <td>1</td>\n",
       "      <td>1709.0</td>\n",
       "      <td>0</td>\n",
       "      <td>no</td>\n",
       "      <td>NaN</td>\n",
       "      <td>adoption</td>\n",
       "      <td>BLACK TAN</td>\n",
       "      <td>ADOPTION</td>\n",
       "      <td>NAN</td>\n",
       "      <td>OWNER SURRENDER</td>\n",
       "    </tr>\n",
       "    <tr>\n",
       "      <th>3</th>\n",
       "      <td>adopted</td>\n",
       "      <td>NaN</td>\n",
       "      <td>Stray</td>\n",
       "      <td>NaN</td>\n",
       "      <td>2023-11-06 00:00:00</td>\n",
       "      <td>NaN</td>\n",
       "      <td>NaN</td>\n",
       "      <td>2020-02-28 00:00:00</td>\n",
       "      <td>12 years 1 month.</td>\n",
       "      <td>Maggie</td>\n",
       "      <td>...</td>\n",
       "      <td>1</td>\n",
       "      <td>1.0</td>\n",
       "      <td>1</td>\n",
       "      <td>yes</td>\n",
       "      <td>NaN</td>\n",
       "      <td>other_outcome</td>\n",
       "      <td>BLACK TAN</td>\n",
       "      <td>RETURN TO OWNER</td>\n",
       "      <td>NAN</td>\n",
       "      <td>OWNER SURRENDER</td>\n",
       "    </tr>\n",
       "    <tr>\n",
       "      <th>4</th>\n",
       "      <td>adopted</td>\n",
       "      <td>NaN</td>\n",
       "      <td>Stray</td>\n",
       "      <td>NaN</td>\n",
       "      <td>NaN</td>\n",
       "      <td>NaN</td>\n",
       "      <td>NaN</td>\n",
       "      <td>2023-11-06 00:00:00</td>\n",
       "      <td>12 years 1 month.</td>\n",
       "      <td>Maggie</td>\n",
       "      <td>...</td>\n",
       "      <td>1</td>\n",
       "      <td>41.0</td>\n",
       "      <td>2</td>\n",
       "      <td>yes</td>\n",
       "      <td>NaN</td>\n",
       "      <td>adoption</td>\n",
       "      <td>BLACK TAN</td>\n",
       "      <td>ADOPTION</td>\n",
       "      <td>NAN</td>\n",
       "      <td>OWNER SURRENDER</td>\n",
       "    </tr>\n",
       "  </tbody>\n",
       "</table>\n",
       "<p>5 rows × 57 columns</p>\n",
       "</div>"
      ],
      "text/plain": [
       "  outcome_type_final_grouped  dob              returnedreason intake_is_dead  \\\n",
       "0                    adopted  NaN  Owner requested Euthanasia            NaN   \n",
       "1                    adopted  NaN                       Stray            NaN   \n",
       "2                    adopted  NaN                       Stray            NaN   \n",
       "3                    adopted  NaN                       Stray            NaN   \n",
       "4                    adopted  NaN                       Stray            NaN   \n",
       "\n",
       "              return_date intake_condition  was_outcome_alive  \\\n",
       "0  10/31/2024 12:00:00 AM              NaN                NaN   \n",
       "1                     NaN              NaN                NaN   \n",
       "2     2020-02-28 00:00:00              NaN                NaN   \n",
       "3     2023-11-06 00:00:00              NaN                NaN   \n",
       "4                     NaN              NaN                NaN   \n",
       "\n",
       "           intake_date           animalage animal_name  ... has_name  \\\n",
       "0  2009-11-28 00:00:00   15 years 1 month.      Jadzia  ...        1   \n",
       "1  2009-12-08 00:00:00  14 years 0 months.       Gonzo  ...        1   \n",
       "2  2012-08-10 00:00:00   12 years 1 month.      Maggie  ...        1   \n",
       "3  2020-02-28 00:00:00   12 years 1 month.      Maggie  ...        1   \n",
       "4  2023-11-06 00:00:00   12 years 1 month.      Maggie  ...        1   \n",
       "\n",
       "  stay_length_days Num_returned Is_returned age_months outcome_type_grouped  \\\n",
       "0           2723.0            0          no        NaN             adoption   \n",
       "1           2694.0            0          no        NaN             adoption   \n",
       "2           1709.0            0          no        NaN             adoption   \n",
       "3              1.0            1         yes        NaN        other_outcome   \n",
       "4             41.0            2         yes        NaN             adoption   \n",
       "\n",
       "   primary_color_final outcome_type_final intake_condition_final  \\\n",
       "0              UNKNOWN           ADOPTION                    NAN   \n",
       "1                  TAN           ADOPTION                    NAN   \n",
       "2            BLACK TAN           ADOPTION                    NAN   \n",
       "3            BLACK TAN    RETURN TO OWNER                    NAN   \n",
       "4            BLACK TAN           ADOPTION                    NAN   \n",
       "\n",
       "  intake_type_final  \n",
       "0   OWNER SURRENDER  \n",
       "1   OWNER SURRENDER  \n",
       "2   OWNER SURRENDER  \n",
       "3   OWNER SURRENDER  \n",
       "4   OWNER SURRENDER  \n",
       "\n",
       "[5 rows x 57 columns]"
      ]
     },
     "execution_count": 8,
     "metadata": {},
     "output_type": "execute_result"
    }
   ],
   "source": [
    "#Setting outcome_type_final_grouped to be first for Sagemaker Training\n",
    "\n",
    "column = 'outcome_type_final_grouped'\n",
    "cols = [column] + [col for col in df.columns if col != column]\n",
    "df = df[cols]\n",
    "\n",
    "#Check new order\n",
    "df.head()\n"
   ]
  },
  {
   "cell_type": "code",
   "execution_count": 1,
   "id": "e54cb119-6dff-43d6-a3e0-619bccd9ee5c",
   "metadata": {
    "execution": {
     "iopub.execute_input": "2025-07-10T02:11:14.038266Z",
     "iopub.status.busy": "2025-07-10T02:11:14.037953Z",
     "iopub.status.idle": "2025-07-10T02:11:14.187876Z",
     "shell.execute_reply": "2025-07-10T02:11:14.187240Z",
     "shell.execute_reply.started": "2025-07-10T02:11:14.038238Z"
    }
   },
   "outputs": [
    {
     "ename": "NameError",
     "evalue": "name 'df' is not defined",
     "output_type": "error",
     "traceback": [
      "\u001b[0;31m---------------------------------------------------------------------------\u001b[0m",
      "\u001b[0;31mNameError\u001b[0m                                 Traceback (most recent call last)",
      "Cell \u001b[0;32mIn[1], line 12\u001b[0m\n\u001b[1;32m      9\u001b[0m     \u001b[38;5;28;01melse\u001b[39;00m:\n\u001b[1;32m     10\u001b[0m         \u001b[38;5;28;01mreturn\u001b[39;00m \u001b[38;5;124m\"\u001b[39m\u001b[38;5;124mexclude\u001b[39m\u001b[38;5;124m\"\u001b[39m  \u001b[38;5;66;03m# fallback for any rows outside your logic\u001b[39;00m\n\u001b[0;32m---> 12\u001b[0m df[\u001b[38;5;124m'\u001b[39m\u001b[38;5;124msplit\u001b[39m\u001b[38;5;124m'\u001b[39m] \u001b[38;5;241m=\u001b[39m \u001b[43mdf\u001b[49m\u001b[38;5;241m.\u001b[39mapply(assign_split, axis\u001b[38;5;241m=\u001b[39m\u001b[38;5;241m1\u001b[39m)\n",
      "\u001b[0;31mNameError\u001b[0m: name 'df' is not defined"
     ]
    }
   ],
   "source": [
    "#Adding Custom Train/Test/Split\n",
    "def assign_split(row):\n",
    "    if row['shelter'] == \"Bloomington\":\n",
    "        return \"test\"\n",
    "    elif row['outcome_year'] < 2024:\n",
    "        return \"train\"\n",
    "    elif row['outcome_year'] in [2024, 2025] and row['shelter'] != \"Bloomington\":\n",
    "        return \"validate\"\n",
    "    else:\n",
    "        return \"exclude\"  # fallback for any rows outside your logic\n",
    "\n",
    "df['split'] = df.apply(assign_split, axis=1)\n"
   ]
  },
  {
   "cell_type": "code",
   "execution_count": 10,
   "id": "e583e582-526d-46b5-b564-6efdc5b44574",
   "metadata": {
    "execution": {
     "iopub.execute_input": "2025-07-08T19:40:02.148234Z",
     "iopub.status.busy": "2025-07-08T19:40:02.147928Z",
     "iopub.status.idle": "2025-07-08T19:40:02.151658Z",
     "shell.execute_reply": "2025-07-08T19:40:02.151127Z",
     "shell.execute_reply.started": "2025-07-08T19:40:02.148215Z"
    }
   },
   "outputs": [
    {
     "name": "stdout",
     "output_type": "stream",
     "text": [
      "['outcome_type_final_grouped', 'dob', 'returnedreason', 'intake_is_dead', 'return_date', 'intake_condition', 'was_outcome_alive', 'intake_date', 'animalage', 'animal_name', 'primary_color', 'primary_breed', 'deceasedreason', 'LastUpdate', 'Age', 'intake_type', 'outcome_year', 'animal_id', 'intake_reason', 'OutcomeCondition', 'istrial', 'Jurisdiction', 'istransfer', 'diedoffshelter', 'longitude', 'sex', 'deceased_date', 'identichipnumber', 'location', 'Crossing', 'outcome_date', 'isdoa', 'latitude', 'outcome_subtype', 'shelter', 'geopoint', 'sheltercode', 'secondary_color', 'puttosleep', 'intake_subtype', 'outcome_type', 'animal_type', 'outcome_is_dead', 'primary_breed_clean', 'secondary_breed', 'is_mix', 'intake_date_str', 'has_name', 'stay_length_days', 'Num_returned', 'Is_returned', 'age_months', 'outcome_type_grouped', 'primary_color_final', 'outcome_type_final', 'intake_condition_final', 'intake_type_final', 'split']\n",
      "Total columns: 58\n"
     ]
    }
   ],
   "source": [
    "#See all columns\n",
    "all_columns = df.columns.tolist()\n",
    "print(all_columns)\n",
    "print(\"Total columns:\", len(all_columns))\n",
    "\n"
   ]
  },
  {
   "cell_type": "code",
   "execution_count": 11,
   "id": "5b39ae0b-630a-4936-ac2f-f115170e674d",
   "metadata": {
    "execution": {
     "iopub.execute_input": "2025-07-08T19:40:04.725565Z",
     "iopub.status.busy": "2025-07-08T19:40:04.725241Z",
     "iopub.status.idle": "2025-07-08T19:40:04.787668Z",
     "shell.execute_reply": "2025-07-08T19:40:04.787084Z",
     "shell.execute_reply.started": "2025-07-08T19:40:04.725544Z"
    }
   },
   "outputs": [],
   "source": [
    "#Dropping unneeded columns\n",
    "features_to_keep = ['outcome_type_final_grouped',\n",
    "    'animal_type', 'primary_breed_clean', 'primary_color_final',\n",
    "    'sex', 'intake_type_final', 'intake_subtype',\n",
    "    'intake_condition_final', 'age_months', 'shelter', 'split'\n",
    "]\n",
    "\n",
    "# Trim the DataFrame to only those columns\n",
    "df = df[features_to_keep].copy()"
   ]
  },
  {
   "cell_type": "code",
   "execution_count": 12,
   "id": "c772ba19-b6d7-4ba5-884d-016509e93174",
   "metadata": {
    "execution": {
     "iopub.execute_input": "2025-07-08T19:40:06.365685Z",
     "iopub.status.busy": "2025-07-08T19:40:06.365357Z",
     "iopub.status.idle": "2025-07-08T19:40:06.369026Z",
     "shell.execute_reply": "2025-07-08T19:40:06.368501Z",
     "shell.execute_reply.started": "2025-07-08T19:40:06.365663Z"
    }
   },
   "outputs": [
    {
     "name": "stdout",
     "output_type": "stream",
     "text": [
      "['outcome_type_final_grouped', 'animal_type', 'primary_breed_clean', 'primary_color_final', 'sex', 'intake_type_final', 'intake_subtype', 'intake_condition_final', 'age_months', 'shelter', 'split']\n",
      "Total columns: 11\n"
     ]
    }
   ],
   "source": [
    "#See all columns\n",
    "all_columns = df.columns.tolist()\n",
    "print(all_columns)\n",
    "print(\"Total columns:\", len(all_columns))"
   ]
  },
  {
   "cell_type": "code",
   "execution_count": 13,
   "id": "c06b9339-b1aa-495c-b491-ec7c409ee071",
   "metadata": {
    "execution": {
     "iopub.execute_input": "2025-07-08T19:40:09.575640Z",
     "iopub.status.busy": "2025-07-08T19:40:09.575325Z",
     "iopub.status.idle": "2025-07-08T19:40:09.589216Z",
     "shell.execute_reply": "2025-07-08T19:40:09.588691Z",
     "shell.execute_reply.started": "2025-07-08T19:40:09.575619Z"
    }
   },
   "outputs": [],
   "source": [
    "#Pre-encoding Adoption\n",
    "df['outcome_type_final_grouped'] = (df['outcome_type_final_grouped'] == 'adopted').astype(int)\n"
   ]
  },
  {
   "cell_type": "code",
   "execution_count": 53,
   "id": "2521895a-b853-411f-8cef-af6a171c67b3",
   "metadata": {
    "execution": {
     "iopub.execute_input": "2025-07-08T20:52:03.993933Z",
     "iopub.status.busy": "2025-07-08T20:52:03.993602Z",
     "iopub.status.idle": "2025-07-08T20:52:04.094380Z",
     "shell.execute_reply": "2025-07-08T20:52:04.093870Z",
     "shell.execute_reply.started": "2025-07-08T20:52:03.993913Z"
    }
   },
   "outputs": [],
   "source": [
    "#Encoding\n",
    "from sklearn.preprocessing import LabelEncoder\n",
    "\n",
    "# Copy original DataFrame\n",
    "encoded_df = df.copy()\n",
    "\n",
    "# List of categorical columns to encode (exclude numeric + non-feature cols)\n",
    "categorical_cols = [\n",
    "    col for col in encoded_df.columns\n",
    "    if col not in ['age_months', 'shelter', 'split', 'outcome_type_final_grouped']\n",
    "]\n",
    "\n",
    "# Apply label encoding\n",
    "le_dict = {}\n",
    "for col in categorical_cols:\n",
    "    le = LabelEncoder()\n",
    "    encoded_df[col] = le.fit_transform(encoded_df[col].astype(str))\n",
    "    le_dict[col] = le\n",
    "\n",
    "# Fill missing age_months with median\n",
    "median_age = encoded_df['age_months'].median()\n",
    "encoded_df['age_months'] = encoded_df['age_months'].fillna(median_age)\n",
    "\n"
   ]
  },
  {
   "cell_type": "code",
   "execution_count": 54,
   "id": "c5f3c072-01d8-4860-8184-019327bcd9aa",
   "metadata": {
    "execution": {
     "iopub.execute_input": "2025-07-08T20:52:06.821061Z",
     "iopub.status.busy": "2025-07-08T20:52:06.820728Z",
     "iopub.status.idle": "2025-07-08T20:52:06.824466Z",
     "shell.execute_reply": "2025-07-08T20:52:06.823998Z",
     "shell.execute_reply.started": "2025-07-08T20:52:06.821040Z"
    }
   },
   "outputs": [],
   "source": [
    "# Saving Encoding\n",
    "import pickle\n",
    "\n",
    "with open(\"label_encoders.pkl\", \"wb\") as f:\n",
    "    pickle.dump(le_dict, f)\n",
    "\n",
    "\n"
   ]
  },
  {
   "cell_type": "code",
   "execution_count": 55,
   "id": "fb4ac3a8-0cb5-469a-9941-0d2ab489b4d3",
   "metadata": {
    "execution": {
     "iopub.execute_input": "2025-07-08T20:52:37.728977Z",
     "iopub.status.busy": "2025-07-08T20:52:37.728669Z",
     "iopub.status.idle": "2025-07-08T20:52:37.731503Z",
     "shell.execute_reply": "2025-07-08T20:52:37.731068Z",
     "shell.execute_reply.started": "2025-07-08T20:52:37.728958Z"
    }
   },
   "outputs": [],
   "source": [
    "##EDIT: Need to do a standard format design CSV and ingest data into S3 bucket for inference"
   ]
  },
  {
   "cell_type": "code",
   "execution_count": 17,
   "id": "cc8f84c9-21db-4a11-934d-19cde912848c",
   "metadata": {
    "execution": {
     "iopub.execute_input": "2025-07-08T19:40:13.683649Z",
     "iopub.status.busy": "2025-07-08T19:40:13.683337Z",
     "iopub.status.idle": "2025-07-08T19:40:13.686890Z",
     "shell.execute_reply": "2025-07-08T19:40:13.686407Z",
     "shell.execute_reply.started": "2025-07-08T19:40:13.683629Z"
    }
   },
   "outputs": [
    {
     "name": "stdout",
     "output_type": "stream",
     "text": [
      "['outcome_type_final_grouped', 'animal_type', 'primary_breed_clean', 'primary_color_final', 'sex', 'intake_type_final', 'intake_subtype', 'intake_condition_final', 'age_months', 'shelter', 'split']\n",
      "Total columns: 11\n"
     ]
    }
   ],
   "source": [
    "#See all columns\n",
    "all_columns = encoded_df.columns.tolist()\n",
    "print(all_columns)\n",
    "print(\"Total columns:\", len(all_columns))\n",
    "\n"
   ]
  },
  {
   "cell_type": "code",
   "execution_count": 18,
   "id": "c3b189bb-0041-4ce3-92f4-133b20874561",
   "metadata": {
    "execution": {
     "iopub.execute_input": "2025-07-08T19:40:16.696405Z",
     "iopub.status.busy": "2025-07-08T19:40:16.696091Z",
     "iopub.status.idle": "2025-07-08T19:40:16.705376Z",
     "shell.execute_reply": "2025-07-08T19:40:16.704887Z",
     "shell.execute_reply.started": "2025-07-08T19:40:16.696385Z"
    }
   },
   "outputs": [
    {
     "data": {
      "text/html": [
       "<div>\n",
       "<style scoped>\n",
       "    .dataframe tbody tr th:only-of-type {\n",
       "        vertical-align: middle;\n",
       "    }\n",
       "\n",
       "    .dataframe tbody tr th {\n",
       "        vertical-align: top;\n",
       "    }\n",
       "\n",
       "    .dataframe thead th {\n",
       "        text-align: right;\n",
       "    }\n",
       "</style>\n",
       "<table border=\"1\" class=\"dataframe\">\n",
       "  <thead>\n",
       "    <tr style=\"text-align: right;\">\n",
       "      <th></th>\n",
       "      <th>outcome_type_final_grouped</th>\n",
       "      <th>animal_type</th>\n",
       "      <th>primary_breed_clean</th>\n",
       "      <th>primary_color_final</th>\n",
       "      <th>sex</th>\n",
       "      <th>intake_type_final</th>\n",
       "      <th>intake_subtype</th>\n",
       "      <th>intake_condition_final</th>\n",
       "      <th>age_months</th>\n",
       "      <th>shelter</th>\n",
       "      <th>split</th>\n",
       "    </tr>\n",
       "  </thead>\n",
       "  <tbody>\n",
       "    <tr>\n",
       "      <th>0</th>\n",
       "      <td>1</td>\n",
       "      <td>0</td>\n",
       "      <td>181</td>\n",
       "      <td>108</td>\n",
       "      <td>1</td>\n",
       "      <td>7</td>\n",
       "      <td>45</td>\n",
       "      <td>6</td>\n",
       "      <td>48.0</td>\n",
       "      <td>Bloomington</td>\n",
       "      <td>test</td>\n",
       "    </tr>\n",
       "    <tr>\n",
       "      <th>1</th>\n",
       "      <td>1</td>\n",
       "      <td>1</td>\n",
       "      <td>229</td>\n",
       "      <td>86</td>\n",
       "      <td>3</td>\n",
       "      <td>7</td>\n",
       "      <td>45</td>\n",
       "      <td>6</td>\n",
       "      <td>48.0</td>\n",
       "      <td>Bloomington</td>\n",
       "      <td>test</td>\n",
       "    </tr>\n",
       "    <tr>\n",
       "      <th>2</th>\n",
       "      <td>1</td>\n",
       "      <td>1</td>\n",
       "      <td>414</td>\n",
       "      <td>8</td>\n",
       "      <td>1</td>\n",
       "      <td>7</td>\n",
       "      <td>45</td>\n",
       "      <td>6</td>\n",
       "      <td>48.0</td>\n",
       "      <td>Bloomington</td>\n",
       "      <td>test</td>\n",
       "    </tr>\n",
       "    <tr>\n",
       "      <th>3</th>\n",
       "      <td>1</td>\n",
       "      <td>1</td>\n",
       "      <td>414</td>\n",
       "      <td>8</td>\n",
       "      <td>1</td>\n",
       "      <td>7</td>\n",
       "      <td>45</td>\n",
       "      <td>6</td>\n",
       "      <td>48.0</td>\n",
       "      <td>Bloomington</td>\n",
       "      <td>test</td>\n",
       "    </tr>\n",
       "    <tr>\n",
       "      <th>4</th>\n",
       "      <td>1</td>\n",
       "      <td>1</td>\n",
       "      <td>414</td>\n",
       "      <td>8</td>\n",
       "      <td>1</td>\n",
       "      <td>7</td>\n",
       "      <td>45</td>\n",
       "      <td>6</td>\n",
       "      <td>48.0</td>\n",
       "      <td>Bloomington</td>\n",
       "      <td>test</td>\n",
       "    </tr>\n",
       "  </tbody>\n",
       "</table>\n",
       "</div>"
      ],
      "text/plain": [
       "   outcome_type_final_grouped  animal_type  primary_breed_clean  \\\n",
       "0                           1            0                  181   \n",
       "1                           1            1                  229   \n",
       "2                           1            1                  414   \n",
       "3                           1            1                  414   \n",
       "4                           1            1                  414   \n",
       "\n",
       "   primary_color_final  sex  intake_type_final  intake_subtype  \\\n",
       "0                  108    1                  7              45   \n",
       "1                   86    3                  7              45   \n",
       "2                    8    1                  7              45   \n",
       "3                    8    1                  7              45   \n",
       "4                    8    1                  7              45   \n",
       "\n",
       "   intake_condition_final  age_months      shelter split  \n",
       "0                       6        48.0  Bloomington  test  \n",
       "1                       6        48.0  Bloomington  test  \n",
       "2                       6        48.0  Bloomington  test  \n",
       "3                       6        48.0  Bloomington  test  \n",
       "4                       6        48.0  Bloomington  test  "
      ]
     },
     "execution_count": 18,
     "metadata": {},
     "output_type": "execute_result"
    }
   ],
   "source": [
    "encoded_df.head()"
   ]
  },
  {
   "cell_type": "code",
   "execution_count": 19,
   "id": "8b3ae6ae-3dc1-4549-93fd-dd7a860e9dbc",
   "metadata": {
    "execution": {
     "iopub.execute_input": "2025-07-08T19:40:17.595896Z",
     "iopub.status.busy": "2025-07-08T19:40:17.595577Z",
     "iopub.status.idle": "2025-07-08T19:40:17.599363Z",
     "shell.execute_reply": "2025-07-08T19:40:17.598929Z",
     "shell.execute_reply.started": "2025-07-08T19:40:17.595875Z"
    }
   },
   "outputs": [
    {
     "data": {
      "text/plain": [
       "166028"
      ]
     },
     "execution_count": 19,
     "metadata": {},
     "output_type": "execute_result"
    }
   ],
   "source": [
    "len(encoded_df)"
   ]
  },
  {
   "cell_type": "code",
   "execution_count": 20,
   "id": "a10c4609-e50c-4214-8d22-906ee64f7bcf",
   "metadata": {
    "execution": {
     "iopub.execute_input": "2025-07-08T19:40:20.231663Z",
     "iopub.status.busy": "2025-07-08T19:40:20.231349Z",
     "iopub.status.idle": "2025-07-08T19:40:20.622980Z",
     "shell.execute_reply": "2025-07-08T19:40:20.622486Z",
     "shell.execute_reply.started": "2025-07-08T19:40:20.231643Z"
    }
   },
   "outputs": [
    {
     "name": "stdout",
     "output_type": "stream",
     "text": [
      "Train rows: 103412\n",
      "Test rows: 34532\n",
      "Validate rows: 28083\n"
     ]
    }
   ],
   "source": [
    "# Splitting for training\n",
    "\n",
    "df_train = encoded_df[encoded_df['split'] == 'train'].drop(columns=['split', 'shelter'])\n",
    "df_test = encoded_df[encoded_df['split'] == 'test'].drop(columns=['split', 'shelter'])\n",
    "df_validate = encoded_df[encoded_df['split'] == 'validate'].drop(columns=['split', 'shelter'])\n",
    "\n",
    "# Save each to CSV (no index)\n",
    "df_train.to_csv(\"train.csv\", index=False)\n",
    "df_test.to_csv(\"test.csv\", index=False)\n",
    "df_validate.to_csv(\"validate.csv\", index=False)\n",
    "\n",
    "# Output sizes\n",
    "print(\"Train rows:\", len(df_train))\n",
    "print(\"Test rows:\", len(df_test))\n",
    "print(\"Validate rows:\", len(df_validate))\n",
    "\n",
    "\n"
   ]
  },
  {
   "cell_type": "code",
   "execution_count": 21,
   "id": "c952e831-db68-4a78-ac70-18529500b041",
   "metadata": {
    "execution": {
     "iopub.execute_input": "2025-07-08T19:40:21.665684Z",
     "iopub.status.busy": "2025-07-08T19:40:21.665366Z",
     "iopub.status.idle": "2025-07-08T19:40:21.673632Z",
     "shell.execute_reply": "2025-07-08T19:40:21.673195Z",
     "shell.execute_reply.started": "2025-07-08T19:40:21.665662Z"
    }
   },
   "outputs": [
    {
     "data": {
      "text/html": [
       "<div>\n",
       "<style scoped>\n",
       "    .dataframe tbody tr th:only-of-type {\n",
       "        vertical-align: middle;\n",
       "    }\n",
       "\n",
       "    .dataframe tbody tr th {\n",
       "        vertical-align: top;\n",
       "    }\n",
       "\n",
       "    .dataframe thead th {\n",
       "        text-align: right;\n",
       "    }\n",
       "</style>\n",
       "<table border=\"1\" class=\"dataframe\">\n",
       "  <thead>\n",
       "    <tr style=\"text-align: right;\">\n",
       "      <th></th>\n",
       "      <th>outcome_type_final_grouped</th>\n",
       "      <th>animal_type</th>\n",
       "      <th>primary_breed_clean</th>\n",
       "      <th>primary_color_final</th>\n",
       "      <th>sex</th>\n",
       "      <th>intake_type_final</th>\n",
       "      <th>intake_subtype</th>\n",
       "      <th>intake_condition_final</th>\n",
       "      <th>age_months</th>\n",
       "    </tr>\n",
       "  </thead>\n",
       "  <tbody>\n",
       "    <tr>\n",
       "      <th>34532</th>\n",
       "      <td>1</td>\n",
       "      <td>1</td>\n",
       "      <td>472</td>\n",
       "      <td>107</td>\n",
       "      <td>7</td>\n",
       "      <td>12</td>\n",
       "      <td>14</td>\n",
       "      <td>0</td>\n",
       "      <td>48.0</td>\n",
       "    </tr>\n",
       "    <tr>\n",
       "      <th>34533</th>\n",
       "      <td>0</td>\n",
       "      <td>1</td>\n",
       "      <td>119</td>\n",
       "      <td>86</td>\n",
       "      <td>2</td>\n",
       "      <td>7</td>\n",
       "      <td>14</td>\n",
       "      <td>4</td>\n",
       "      <td>108.0</td>\n",
       "    </tr>\n",
       "    <tr>\n",
       "      <th>34534</th>\n",
       "      <td>0</td>\n",
       "      <td>1</td>\n",
       "      <td>65</td>\n",
       "      <td>40</td>\n",
       "      <td>0</td>\n",
       "      <td>3</td>\n",
       "      <td>24</td>\n",
       "      <td>2</td>\n",
       "      <td>120.0</td>\n",
       "    </tr>\n",
       "    <tr>\n",
       "      <th>34536</th>\n",
       "      <td>1</td>\n",
       "      <td>1</td>\n",
       "      <td>119</td>\n",
       "      <td>2</td>\n",
       "      <td>6</td>\n",
       "      <td>12</td>\n",
       "      <td>24</td>\n",
       "      <td>5</td>\n",
       "      <td>144.0</td>\n",
       "    </tr>\n",
       "    <tr>\n",
       "      <th>34537</th>\n",
       "      <td>1</td>\n",
       "      <td>0</td>\n",
       "      <td>170</td>\n",
       "      <td>81</td>\n",
       "      <td>4</td>\n",
       "      <td>12</td>\n",
       "      <td>24</td>\n",
       "      <td>5</td>\n",
       "      <td>252.0</td>\n",
       "    </tr>\n",
       "  </tbody>\n",
       "</table>\n",
       "</div>"
      ],
      "text/plain": [
       "       outcome_type_final_grouped  animal_type  primary_breed_clean  \\\n",
       "34532                           1            1                  472   \n",
       "34533                           0            1                  119   \n",
       "34534                           0            1                   65   \n",
       "34536                           1            1                  119   \n",
       "34537                           1            0                  170   \n",
       "\n",
       "       primary_color_final  sex  intake_type_final  intake_subtype  \\\n",
       "34532                  107    7                 12              14   \n",
       "34533                   86    2                  7              14   \n",
       "34534                   40    0                  3              24   \n",
       "34536                    2    6                 12              24   \n",
       "34537                   81    4                 12              24   \n",
       "\n",
       "       intake_condition_final  age_months  \n",
       "34532                       0        48.0  \n",
       "34533                       4       108.0  \n",
       "34534                       2       120.0  \n",
       "34536                       5       144.0  \n",
       "34537                       5       252.0  "
      ]
     },
     "execution_count": 21,
     "metadata": {},
     "output_type": "execute_result"
    }
   ],
   "source": [
    "df_train.head()\n"
   ]
  },
  {
   "cell_type": "code",
   "execution_count": 22,
   "id": "397131bf-6010-4b4b-a3bc-6283265933d2",
   "metadata": {
    "execution": {
     "iopub.execute_input": "2025-07-08T19:40:22.619989Z",
     "iopub.status.busy": "2025-07-08T19:40:22.619433Z",
     "iopub.status.idle": "2025-07-08T19:40:22.627549Z",
     "shell.execute_reply": "2025-07-08T19:40:22.627084Z",
     "shell.execute_reply.started": "2025-07-08T19:40:22.619970Z"
    }
   },
   "outputs": [
    {
     "data": {
      "text/html": [
       "<div>\n",
       "<style scoped>\n",
       "    .dataframe tbody tr th:only-of-type {\n",
       "        vertical-align: middle;\n",
       "    }\n",
       "\n",
       "    .dataframe tbody tr th {\n",
       "        vertical-align: top;\n",
       "    }\n",
       "\n",
       "    .dataframe thead th {\n",
       "        text-align: right;\n",
       "    }\n",
       "</style>\n",
       "<table border=\"1\" class=\"dataframe\">\n",
       "  <thead>\n",
       "    <tr style=\"text-align: right;\">\n",
       "      <th></th>\n",
       "      <th>outcome_type_final_grouped</th>\n",
       "      <th>animal_type</th>\n",
       "      <th>primary_breed_clean</th>\n",
       "      <th>primary_color_final</th>\n",
       "      <th>sex</th>\n",
       "      <th>intake_type_final</th>\n",
       "      <th>intake_subtype</th>\n",
       "      <th>intake_condition_final</th>\n",
       "      <th>age_months</th>\n",
       "    </tr>\n",
       "  </thead>\n",
       "  <tbody>\n",
       "    <tr>\n",
       "      <th>0</th>\n",
       "      <td>1</td>\n",
       "      <td>0</td>\n",
       "      <td>181</td>\n",
       "      <td>108</td>\n",
       "      <td>1</td>\n",
       "      <td>7</td>\n",
       "      <td>45</td>\n",
       "      <td>6</td>\n",
       "      <td>48.0</td>\n",
       "    </tr>\n",
       "    <tr>\n",
       "      <th>1</th>\n",
       "      <td>1</td>\n",
       "      <td>1</td>\n",
       "      <td>229</td>\n",
       "      <td>86</td>\n",
       "      <td>3</td>\n",
       "      <td>7</td>\n",
       "      <td>45</td>\n",
       "      <td>6</td>\n",
       "      <td>48.0</td>\n",
       "    </tr>\n",
       "    <tr>\n",
       "      <th>2</th>\n",
       "      <td>1</td>\n",
       "      <td>1</td>\n",
       "      <td>414</td>\n",
       "      <td>8</td>\n",
       "      <td>1</td>\n",
       "      <td>7</td>\n",
       "      <td>45</td>\n",
       "      <td>6</td>\n",
       "      <td>48.0</td>\n",
       "    </tr>\n",
       "    <tr>\n",
       "      <th>3</th>\n",
       "      <td>1</td>\n",
       "      <td>1</td>\n",
       "      <td>414</td>\n",
       "      <td>8</td>\n",
       "      <td>1</td>\n",
       "      <td>7</td>\n",
       "      <td>45</td>\n",
       "      <td>6</td>\n",
       "      <td>48.0</td>\n",
       "    </tr>\n",
       "    <tr>\n",
       "      <th>4</th>\n",
       "      <td>1</td>\n",
       "      <td>1</td>\n",
       "      <td>414</td>\n",
       "      <td>8</td>\n",
       "      <td>1</td>\n",
       "      <td>7</td>\n",
       "      <td>45</td>\n",
       "      <td>6</td>\n",
       "      <td>48.0</td>\n",
       "    </tr>\n",
       "  </tbody>\n",
       "</table>\n",
       "</div>"
      ],
      "text/plain": [
       "   outcome_type_final_grouped  animal_type  primary_breed_clean  \\\n",
       "0                           1            0                  181   \n",
       "1                           1            1                  229   \n",
       "2                           1            1                  414   \n",
       "3                           1            1                  414   \n",
       "4                           1            1                  414   \n",
       "\n",
       "   primary_color_final  sex  intake_type_final  intake_subtype  \\\n",
       "0                  108    1                  7              45   \n",
       "1                   86    3                  7              45   \n",
       "2                    8    1                  7              45   \n",
       "3                    8    1                  7              45   \n",
       "4                    8    1                  7              45   \n",
       "\n",
       "   intake_condition_final  age_months  \n",
       "0                       6        48.0  \n",
       "1                       6        48.0  \n",
       "2                       6        48.0  \n",
       "3                       6        48.0  \n",
       "4                       6        48.0  "
      ]
     },
     "execution_count": 22,
     "metadata": {},
     "output_type": "execute_result"
    }
   ],
   "source": [
    "df_test.head()"
   ]
  },
  {
   "cell_type": "code",
   "execution_count": 23,
   "id": "e132c526-ed35-44ea-b555-c73d5ca107da",
   "metadata": {
    "execution": {
     "iopub.execute_input": "2025-07-08T19:40:22.911497Z",
     "iopub.status.busy": "2025-07-08T19:40:22.911193Z",
     "iopub.status.idle": "2025-07-08T19:40:22.919302Z",
     "shell.execute_reply": "2025-07-08T19:40:22.918829Z",
     "shell.execute_reply.started": "2025-07-08T19:40:22.911478Z"
    }
   },
   "outputs": [
    {
     "data": {
      "text/html": [
       "<div>\n",
       "<style scoped>\n",
       "    .dataframe tbody tr th:only-of-type {\n",
       "        vertical-align: middle;\n",
       "    }\n",
       "\n",
       "    .dataframe tbody tr th {\n",
       "        vertical-align: top;\n",
       "    }\n",
       "\n",
       "    .dataframe thead th {\n",
       "        text-align: right;\n",
       "    }\n",
       "</style>\n",
       "<table border=\"1\" class=\"dataframe\">\n",
       "  <thead>\n",
       "    <tr style=\"text-align: right;\">\n",
       "      <th></th>\n",
       "      <th>outcome_type_final_grouped</th>\n",
       "      <th>animal_type</th>\n",
       "      <th>primary_breed_clean</th>\n",
       "      <th>primary_color_final</th>\n",
       "      <th>sex</th>\n",
       "      <th>intake_type_final</th>\n",
       "      <th>intake_subtype</th>\n",
       "      <th>intake_condition_final</th>\n",
       "      <th>age_months</th>\n",
       "    </tr>\n",
       "  </thead>\n",
       "  <tbody>\n",
       "    <tr>\n",
       "      <th>34535</th>\n",
       "      <td>1</td>\n",
       "      <td>1</td>\n",
       "      <td>268</td>\n",
       "      <td>2</td>\n",
       "      <td>6</td>\n",
       "      <td>12</td>\n",
       "      <td>24</td>\n",
       "      <td>5</td>\n",
       "      <td>192.0</td>\n",
       "    </tr>\n",
       "    <tr>\n",
       "      <th>34635</th>\n",
       "      <td>0</td>\n",
       "      <td>1</td>\n",
       "      <td>119</td>\n",
       "      <td>20</td>\n",
       "      <td>4</td>\n",
       "      <td>3</td>\n",
       "      <td>25</td>\n",
       "      <td>2</td>\n",
       "      <td>228.0</td>\n",
       "    </tr>\n",
       "    <tr>\n",
       "      <th>34696</th>\n",
       "      <td>0</td>\n",
       "      <td>0</td>\n",
       "      <td>170</td>\n",
       "      <td>52</td>\n",
       "      <td>4</td>\n",
       "      <td>3</td>\n",
       "      <td>25</td>\n",
       "      <td>2</td>\n",
       "      <td>216.0</td>\n",
       "    </tr>\n",
       "    <tr>\n",
       "      <th>34697</th>\n",
       "      <td>1</td>\n",
       "      <td>1</td>\n",
       "      <td>319</td>\n",
       "      <td>107</td>\n",
       "      <td>4</td>\n",
       "      <td>4</td>\n",
       "      <td>45</td>\n",
       "      <td>5</td>\n",
       "      <td>228.0</td>\n",
       "    </tr>\n",
       "    <tr>\n",
       "      <th>34714</th>\n",
       "      <td>0</td>\n",
       "      <td>0</td>\n",
       "      <td>170</td>\n",
       "      <td>29</td>\n",
       "      <td>6</td>\n",
       "      <td>3</td>\n",
       "      <td>24</td>\n",
       "      <td>2</td>\n",
       "      <td>48.0</td>\n",
       "    </tr>\n",
       "  </tbody>\n",
       "</table>\n",
       "</div>"
      ],
      "text/plain": [
       "       outcome_type_final_grouped  animal_type  primary_breed_clean  \\\n",
       "34535                           1            1                  268   \n",
       "34635                           0            1                  119   \n",
       "34696                           0            0                  170   \n",
       "34697                           1            1                  319   \n",
       "34714                           0            0                  170   \n",
       "\n",
       "       primary_color_final  sex  intake_type_final  intake_subtype  \\\n",
       "34535                    2    6                 12              24   \n",
       "34635                   20    4                  3              25   \n",
       "34696                   52    4                  3              25   \n",
       "34697                  107    4                  4              45   \n",
       "34714                   29    6                  3              24   \n",
       "\n",
       "       intake_condition_final  age_months  \n",
       "34535                       5       192.0  \n",
       "34635                       2       228.0  \n",
       "34696                       2       216.0  \n",
       "34697                       5       228.0  \n",
       "34714                       2        48.0  "
      ]
     },
     "execution_count": 23,
     "metadata": {},
     "output_type": "execute_result"
    }
   ],
   "source": [
    "df_validate.head()"
   ]
  },
  {
   "cell_type": "code",
   "execution_count": 56,
   "id": "471baaa0-520a-4130-b06f-bed32e71aa7d",
   "metadata": {
    "execution": {
     "iopub.execute_input": "2025-07-08T20:53:06.217198Z",
     "iopub.status.busy": "2025-07-08T20:53:06.216878Z",
     "iopub.status.idle": "2025-07-08T20:53:06.758798Z",
     "shell.execute_reply": "2025-07-08T20:53:06.758235Z",
     "shell.execute_reply.started": "2025-07-08T20:53:06.217179Z"
    }
   },
   "outputs": [
    {
     "name": "stdout",
     "output_type": "stream",
     "text": [
      "Uploaded to s3://sagemaker-us-east-2-917456409349/sagemaker/adoption/train/train_data.csv\n",
      "Uploaded to s3://sagemaker-us-east-2-917456409349/sagemaker/adoption/test/test_data.csv\n",
      "Uploaded to s3://sagemaker-us-east-2-917456409349/sagemaker/adoption/val/validate_data.csv\n"
     ]
    }
   ],
   "source": [
    "#Uploading to S3, without head or index\n",
    "\n",
    "import io\n",
    "import boto3\n",
    "\n",
    "bucket_name = bucket\n",
    "base_prefix = prefix\n",
    "s3_client = boto3.client(\"s3\")\n",
    "\n",
    "# Reorder columns to ensure label is first\n",
    "def reorder_columns(df, label_col):\n",
    "    cols = [label_col] + [col for col in df.columns if col != label_col]\n",
    "    return df[cols]\n",
    "\n",
    "# Helper to upload a DataFrame as headerless CSV to S3\n",
    "def upload_df_to_s3(df, path, label_col):\n",
    "    df = reorder_columns(df, label_col)\n",
    "\n",
    "    csv_buffer = io.StringIO()\n",
    "    df.to_csv(csv_buffer, index=False, header=False)  # no header, no index\n",
    "    s3_client.put_object(Bucket=bucket_name, Key=path, Body=csv_buffer.getvalue())\n",
    "    print(f\"Uploaded to s3://{bucket_name}/{path}\")\n",
    "\n",
    "# Upload each split\n",
    "label_col = \"outcome_type_final_grouped\"\n",
    "\n",
    "upload_df_to_s3(df_train, f\"{base_prefix}/train/train_data.csv\", label_col)\n",
    "upload_df_to_s3(df_test, f\"{base_prefix}/test/test_data.csv\", label_col)\n",
    "upload_df_to_s3(df_validate, f\"{base_prefix}/val/validate_data.csv\", label_col)\n",
    "\n"
   ]
  },
  {
   "cell_type": "code",
   "execution_count": 25,
   "id": "b11c14e7-2442-47d8-a1ca-32d02bf720b8",
   "metadata": {
    "execution": {
     "iopub.execute_input": "2025-07-08T19:40:24.641552Z",
     "iopub.status.busy": "2025-07-08T19:40:24.641225Z",
     "iopub.status.idle": "2025-07-08T19:40:24.645094Z",
     "shell.execute_reply": "2025-07-08T19:40:24.644658Z",
     "shell.execute_reply.started": "2025-07-08T19:40:24.641531Z"
    }
   },
   "outputs": [
    {
     "data": {
      "text/plain": [
       "'sagemaker-us-east-2-917456409349'"
      ]
     },
     "execution_count": 25,
     "metadata": {},
     "output_type": "execute_result"
    }
   ],
   "source": [
    "bucket"
   ]
  },
  {
   "cell_type": "code",
   "execution_count": 26,
   "id": "d77d5cec-4197-4ce0-9f48-f1ceb3f0fefa",
   "metadata": {
    "execution": {
     "iopub.execute_input": "2025-07-08T19:40:25.389532Z",
     "iopub.status.busy": "2025-07-08T19:40:25.389221Z",
     "iopub.status.idle": "2025-07-08T19:40:25.392956Z",
     "shell.execute_reply": "2025-07-08T19:40:25.392522Z",
     "shell.execute_reply.started": "2025-07-08T19:40:25.389512Z"
    }
   },
   "outputs": [
    {
     "data": {
      "text/plain": [
       "'sagemaker/adoption'"
      ]
     },
     "execution_count": 26,
     "metadata": {},
     "output_type": "execute_result"
    }
   ],
   "source": [
    "prefix"
   ]
  },
  {
   "cell_type": "code",
   "execution_count": 27,
   "id": "3a6a11cb-4440-4d22-b56d-15c0a56a6c7c",
   "metadata": {
    "execution": {
     "iopub.execute_input": "2025-07-08T19:40:26.188299Z",
     "iopub.status.busy": "2025-07-08T19:40:26.187993Z",
     "iopub.status.idle": "2025-07-08T19:40:26.191667Z",
     "shell.execute_reply": "2025-07-08T19:40:26.191248Z",
     "shell.execute_reply.started": "2025-07-08T19:40:26.188279Z"
    }
   },
   "outputs": [
    {
     "data": {
      "text/plain": [
       "'sagemaker/adoption/harmonized_source_data/df_cat_dog_harmonized.csv'"
      ]
     },
     "execution_count": 27,
     "metadata": {},
     "output_type": "execute_result"
    }
   ],
   "source": [
    "key"
   ]
  },
  {
   "cell_type": "markdown",
   "id": "dc512b92-1bd6-43c5-bf7e-84d24b14aefe",
   "metadata": {},
   "source": [
    "## Training Model Locally\n"
   ]
  },
  {
   "cell_type": "code",
   "execution_count": 76,
   "id": "84c98a5d-08fa-4df0-8761-6a12bad31bf2",
   "metadata": {
    "execution": {
     "iopub.execute_input": "2025-07-08T21:32:38.923728Z",
     "iopub.status.busy": "2025-07-08T21:32:38.923160Z",
     "iopub.status.idle": "2025-07-08T21:32:39.753873Z",
     "shell.execute_reply": "2025-07-08T21:32:39.753319Z",
     "shell.execute_reply.started": "2025-07-08T21:32:38.923706Z"
    }
   },
   "outputs": [
    {
     "name": "stdout",
     "output_type": "stream",
     "text": [
      "\n",
      " Training Set Performance:\n",
      "              precision    recall  f1-score   support\n",
      "\n",
      "           0       0.89      0.86      0.87     70695\n",
      "           1       0.71      0.76      0.74     32717\n",
      "\n",
      "    accuracy                           0.83    103412\n",
      "   macro avg       0.80      0.81      0.80    103412\n",
      "weighted avg       0.83      0.83      0.83    103412\n",
      "\n"
     ]
    },
    {
     "data": {
      "image/png": "[encoded data removed]",
      "text/plain": [
       "<Figure size 640x480 with 2 Axes>"
      ]
     },
     "metadata": {},
     "output_type": "display_data"
    },
    {
     "name": "stdout",
     "output_type": "stream",
     "text": [
      "\n",
      " Validation Set Performance:\n",
      "              precision    recall  f1-score   support\n",
      "\n",
      "           0       0.89      0.80      0.84     18322\n",
      "           1       0.68      0.81      0.74      9761\n",
      "\n",
      "    accuracy                           0.80     28083\n",
      "   macro avg       0.78      0.80      0.79     28083\n",
      "weighted avg       0.82      0.80      0.81     28083\n",
      "\n"
     ]
    },
    {
     "data": {
      "image/png": "[encoded data removed]",
      "text/plain": [
       "<Figure size 640x480 with 2 Axes>"
      ]
     },
     "metadata": {},
     "output_type": "display_data"
    },
    {
     "name": "stdout",
     "output_type": "stream",
     "text": [
      "\n",
      " Test Set Performance:\n",
      "              precision    recall  f1-score   support\n",
      "\n",
      "           0       0.37      0.84      0.51     12666\n",
      "           1       0.64      0.16      0.26     21866\n",
      "\n",
      "    accuracy                           0.41     34532\n",
      "   macro avg       0.50      0.50      0.39     34532\n",
      "weighted avg       0.54      0.41      0.35     34532\n",
      "\n"
     ]
    },
    {
     "data": {
      "image/png": "[encoded data removed]",
      "text/plain": [
       "<Figure size 640x480 with 2 Axes>"
      ]
     },
     "metadata": {},
     "output_type": "display_data"
    }
   ],
   "source": [
    "from xgboost import XGBClassifier\n",
    "from sklearn.metrics import classification_report, confusion_matrix, ConfusionMatrixDisplay\n",
    "import pandas as pd\n",
    "import matplotlib.pyplot as plt\n",
    "\n",
    "# Prepare datasets\n",
    "X_train = df_train.drop(columns=['outcome_type_final_grouped'])\n",
    "y_train = df_train['outcome_type_final_grouped']\n",
    "\n",
    "X_val = df_validate.drop(columns=['outcome_type_final_grouped'])\n",
    "y_val = df_validate['outcome_type_final_grouped']\n",
    "\n",
    "X_test = df_test.drop(columns=['outcome_type_final_grouped'])\n",
    "y_test = df_test['outcome_type_final_grouped']\n",
    "\n",
    "# Define model\n",
    "xgb_model = XGBClassifier(\n",
    "    max_depth=5,\n",
    "    learning_rate=0.2,\n",
    "    gamma=4,\n",
    "    min_child_weight=6,\n",
    "    subsample=0.7,\n",
    "    objective=\"binary:logistic\",\n",
    "    eval_metric=\"logloss\",\n",
    "    n_estimators=50,\n",
    "    #use_label_encoder=False,\n",
    "    n_jobs=-1,\n",
    "    random_state=42\n",
    ")\n",
    "\n",
    "# Train model\n",
    "xgb_model.fit(X_train, y_train)\n",
    "\n",
    "# Predict and evaluate\n",
    "def evaluate_performance(X, y_true, dataset_name):\n",
    "    y_pred = xgb_model.predict(X)\n",
    "    print(f\"\\n {dataset_name} Set Performance:\")\n",
    "    print(classification_report(y_true, y_pred))\n",
    "    \n",
    "    # Confusion Matrix\n",
    "    cm = confusion_matrix(y_true, y_pred)\n",
    "    disp = ConfusionMatrixDisplay(confusion_matrix=cm)\n",
    "    disp.plot(cmap='Blues')\n",
    "    plt.title(f\"{dataset_name} Confusion Matrix\")\n",
    "    plt.show()\n",
    "\n",
    "# Run evaluations\n",
    "evaluate_performance(X_train, y_train, \"Training\")\n",
    "evaluate_performance(X_val, y_val, \"Validation\")\n",
    "evaluate_performance(X_test, y_test, \"Test\")\n",
    "\n",
    "\n"
   ]
  },
  {
   "cell_type": "code",
   "execution_count": 57,
   "id": "c3cb0c09-a55b-4743-9304-ee7619d182a7",
   "metadata": {
    "execution": {
     "iopub.execute_input": "2025-07-08T20:54:31.143581Z",
     "iopub.status.busy": "2025-07-08T20:54:31.143191Z",
     "iopub.status.idle": "2025-07-08T20:57:01.683221Z",
     "shell.execute_reply": "2025-07-08T20:57:01.682625Z",
     "shell.execute_reply.started": "2025-07-08T20:54:31.143560Z"
    }
   },
   "outputs": [
    {
     "name": "stdout",
     "output_type": "stream",
     "text": [
      "Fitting 3 folds for each of 486 candidates, totalling 1458 fits\n",
      " Best parameters found: {'gamma': 0, 'learning_rate': 0.05, 'max_depth': 7, 'min_child_weight': 4, 'n_estimators': 100, 'subsample': 0.6}\n",
      "\n",
      " Training Set Performance:\n",
      "              precision    recall  f1-score   support\n",
      "\n",
      "           0       0.89      0.86      0.87     70695\n",
      "           1       0.72      0.76      0.74     32717\n",
      "\n",
      "    accuracy                           0.83    103412\n",
      "   macro avg       0.80      0.81      0.80    103412\n",
      "weighted avg       0.83      0.83      0.83    103412\n",
      "\n"
     ]
    },
    {
     "data": {
      "image/png": "[encoded data removed]",
      "text/plain": [
       "<Figure size 640x480 with 2 Axes>"
      ]
     },
     "metadata": {},
     "output_type": "display_data"
    },
    {
     "name": "stdout",
     "output_type": "stream",
     "text": [
      "\n",
      " Validation Set Performance:\n",
      "              precision    recall  f1-score   support\n",
      "\n",
      "           0       0.92      0.78      0.85     18322\n",
      "           1       0.68      0.88      0.77      9761\n",
      "\n",
      "    accuracy                           0.82     28083\n",
      "   macro avg       0.80      0.83      0.81     28083\n",
      "weighted avg       0.84      0.82      0.82     28083\n",
      "\n"
     ]
    },
    {
     "data": {
      "image/png": "[encoded data removed]",
      "text/plain": [
       "<Figure size 640x480 with 2 Axes>"
      ]
     },
     "metadata": {},
     "output_type": "display_data"
    },
    {
     "name": "stdout",
     "output_type": "stream",
     "text": [
      "\n",
      " Test Set Performance:\n",
      "              precision    recall  f1-score   support\n",
      "\n",
      "           0       0.37      0.97      0.54     12666\n",
      "           1       0.75      0.05      0.10     21866\n",
      "\n",
      "    accuracy                           0.39     34532\n",
      "   macro avg       0.56      0.51      0.32     34532\n",
      "weighted avg       0.61      0.39      0.26     34532\n",
      "\n"
     ]
    },
    {
     "data": {
      "image/png": "[encoded data removed]",
      "text/plain": [
       "<Figure size 640x480 with 2 Axes>"
      ]
     },
     "metadata": {},
     "output_type": "display_data"
    }
   ],
   "source": [
    "#Running AMT to see if can improve Test performance\n",
    "\n",
    "from xgboost import XGBClassifier\n",
    "from sklearn.model_selection import GridSearchCV\n",
    "from sklearn.metrics import classification_report, confusion_matrix, ConfusionMatrixDisplay\n",
    "import matplotlib.pyplot as plt\n",
    "\n",
    "# Prepare data\n",
    "X_train = df_train.drop(columns=['outcome_type_final_grouped'])\n",
    "y_train = df_train['outcome_type_final_grouped']\n",
    "X_val = df_validate.drop(columns=['outcome_type_final_grouped'])\n",
    "y_val = df_validate['outcome_type_final_grouped']\n",
    "X_test = df_test.drop(columns=['outcome_type_final_grouped'])\n",
    "y_test = df_test['outcome_type_final_grouped']\n",
    "\n",
    "# Combine train and val for tuning (cross-validation handles splits)\n",
    "X_trainval = pd.concat([X_train, X_val])\n",
    "y_trainval = pd.concat([y_train, y_val])\n",
    "\n",
    "# Define parameter grid\n",
    "param_grid = {\n",
    "    'max_depth': [3, 5, 7],\n",
    "    'learning_rate': [0.05, 0.1, 0.2],\n",
    "    'gamma': [0, 2, 4],\n",
    "    'min_child_weight': [1, 4, 6],\n",
    "    'subsample': [0.6, 0.8, 1.0],\n",
    "    'n_estimators': [50, 100],\n",
    "}\n",
    "\n",
    "# Initialize model\n",
    "xgb_base = XGBClassifier(\n",
    "    objective='binary:logistic',\n",
    "    eval_metric='logloss',\n",
    "   # use_label_encoder=False,\n",
    "    n_jobs=-1,\n",
    "    random_state=42\n",
    ")\n",
    "\n",
    "# Grid search with 3-fold cross-validation\n",
    "grid_search = GridSearchCV(\n",
    "    estimator=xgb_base,\n",
    "    param_grid=param_grid,\n",
    "    scoring='f1',  #EDIT-do we want to optimize for something else?\n",
    "    cv=3,\n",
    "    verbose=1,\n",
    "    n_jobs=-1\n",
    ")\n",
    "\n",
    "# Fit search\n",
    "grid_search.fit(X_trainval, y_trainval)\n",
    "best_model = grid_search.best_estimator_\n",
    "print(\" Best parameters found:\", grid_search.best_params_)\n",
    "\n",
    "# Evaluate\n",
    "def evaluate_performance(X, y_true, dataset_name):\n",
    "    y_pred = best_model.predict(X)\n",
    "    print(f\"\\n {dataset_name} Set Performance:\")\n",
    "    print(classification_report(y_true, y_pred))\n",
    "\n",
    "    # Confusion Matrix\n",
    "    cm = confusion_matrix(y_true, y_pred)\n",
    "    disp = ConfusionMatrixDisplay(confusion_matrix=cm)\n",
    "    disp.plot(cmap='Blues')\n",
    "    plt.title(f\"{dataset_name} Confusion Matrix\")\n",
    "    plt.show()\n",
    "\n",
    "# Run evaluations\n",
    "evaluate_performance(X_train, y_train, \"Training\")\n",
    "evaluate_performance(X_val, y_val, \"Validation\")\n",
    "evaluate_performance(X_test, y_test, \"Test\")\n"
   ]
  },
  {
   "cell_type": "code",
   "execution_count": 58,
   "id": "984232d2-9ab4-4933-820f-24309d97ac01",
   "metadata": {
    "execution": {
     "iopub.execute_input": "2025-07-08T20:59:56.561216Z",
     "iopub.status.busy": "2025-07-08T20:59:56.560881Z",
     "iopub.status.idle": "2025-07-08T20:59:56.580812Z",
     "shell.execute_reply": "2025-07-08T20:59:56.580157Z",
     "shell.execute_reply.started": "2025-07-08T20:59:56.561194Z"
    }
   },
   "outputs": [
    {
     "name": "stdout",
     "output_type": "stream",
     "text": [
      "{'gamma': 0, 'learning_rate': 0.05, 'max_depth': 7, 'min_child_weight': 4, 'n_estimators': 100, 'subsample': 0.6}\n"
     ]
    }
   ],
   "source": [
    "#Outputting Best Parameters, saving model \n",
    "\n",
    "best_params = grid_search.best_params_\n",
    "print(best_params)\n",
    "\n",
    "best_model.save_model(\"best_xgb_model_local.json\") \n",
    "\n"
   ]
  },
  {
   "cell_type": "code",
   "execution_count": 59,
   "id": "65b28956-0242-4a8f-88cc-b025eb844c28",
   "metadata": {
    "execution": {
     "iopub.execute_input": "2025-07-08T21:00:09.499369Z",
     "iopub.status.busy": "2025-07-08T21:00:09.499041Z",
     "iopub.status.idle": "2025-07-08T21:00:10.073326Z",
     "shell.execute_reply": "2025-07-08T21:00:10.072756Z",
     "shell.execute_reply.started": "2025-07-08T21:00:09.499348Z"
    }
   },
   "outputs": [
    {
     "name": "stdout",
     "output_type": "stream",
     "text": [
      " Saved all prediction files.\n"
     ]
    }
   ],
   "source": [
    "import pandas as pd\n",
    "\n",
    "# Generate predictions\n",
    "y_train_pred = best_model.predict(X_train)\n",
    "y_val_pred = best_model.predict(X_val)\n",
    "y_test_pred = best_model.predict(X_test)\n",
    "\n",
    "# Train\n",
    "df_train_with_preds = df_train.copy()\n",
    "df_train_with_preds.insert(0, \"predicted_outcome\", y_train_pred)\n",
    "df_train_with_preds.to_csv(\"train_with_predictions.csv\", index=False)\n",
    "\n",
    "# Validation\n",
    "df_val_with_preds = df_validate.copy()\n",
    "df_val_with_preds.insert(0, \"predicted_outcome\", y_val_pred)\n",
    "df_val_with_preds.to_csv(\"validate_with_predictions.csv\", index=False)\n",
    "\n",
    "# Test\n",
    "df_test_with_preds = df_test.copy()\n",
    "df_test_with_preds.insert(0, \"predicted_outcome\", y_test_pred)\n",
    "df_test_with_preds.to_csv(\"test_with_predictions.csv\", index=False)\n",
    "\n",
    "print(\" Saved all prediction files.\")\n"
   ]
  },
  {
   "cell_type": "markdown",
   "id": "a44b163d-1b61-4c09-aea9-936db16fcf3b",
   "metadata": {},
   "source": [
    "## Sagemaeker Model Parameter and Training"
   ]
  },
  {
   "cell_type": "code",
   "execution_count": 77,
   "id": "3c3ef111-23dd-45ca-a330-a774199b33b0",
   "metadata": {
    "execution": {
     "iopub.execute_input": "2025-07-08T21:33:06.839250Z",
     "iopub.status.busy": "2025-07-08T21:33:06.838921Z",
     "iopub.status.idle": "2025-07-08T21:33:06.842675Z",
     "shell.execute_reply": "2025-07-08T21:33:06.842190Z",
     "shell.execute_reply.started": "2025-07-08T21:33:06.839228Z"
    }
   },
   "outputs": [],
   "source": [
    "# Set Parameters for Binary Classification\n",
    "# EDIT: Used same parameters as MengJiao\n",
    "hyperparameters = {\n",
    "    \"max_depth\": \"5\",\n",
    "    \"eta\": \"0.2\",                   \n",
    "    \"gamma\": \"4\",\n",
    "    \"min_child_weight\": \"6\",\n",
    "    \"subsample\": \"0.7\",\n",
    "    \"objective\": \"binary:logistic\",\n",
    "    \"eval_metric\": \"logloss\",\n",
    "    \"num_round\": \"50\",      \n",
    "    \"verbosity\": \"2\",\n",
    "    \"seed\": \"42\",\n",
    "    \"scale_pos_weight\": \"2.16\"  \n",
    "}\n",
    "# Set output\n",
    "instance_type = \"ml.m5.4xlarge\"\n",
    "output_path = \"s3://{}/{}/output\".format(bucket, prefix)\n",
    "content_type = \"csv\"\n",
    "\n",
    "\n",
    "#EDIT: Remember to redo with Hyperparameter Tuning"
   ]
  },
  {
   "cell_type": "code",
   "execution_count": 30,
   "id": "cf12bcc0-a315-42ed-b473-1d730ccf98dc",
   "metadata": {
    "execution": {
     "iopub.execute_input": "2025-07-08T19:41:36.093814Z",
     "iopub.status.busy": "2025-07-08T19:41:36.093267Z",
     "iopub.status.idle": "2025-07-08T19:41:36.310268Z",
     "shell.execute_reply": "2025-07-08T19:41:36.309800Z",
     "shell.execute_reply.started": "2025-07-08T19:41:36.093794Z"
    }
   },
   "outputs": [
    {
     "name": "stdout",
     "output_type": "stream",
     "text": [
      "(103412, 9)\n"
     ]
    },
    {
     "data": {
      "text/html": [
       "<div>\n",
       "<style scoped>\n",
       "    .dataframe tbody tr th:only-of-type {\n",
       "        vertical-align: middle;\n",
       "    }\n",
       "\n",
       "    .dataframe tbody tr th {\n",
       "        vertical-align: top;\n",
       "    }\n",
       "\n",
       "    .dataframe thead th {\n",
       "        text-align: right;\n",
       "    }\n",
       "</style>\n",
       "<table border=\"1\" class=\"dataframe\">\n",
       "  <thead>\n",
       "    <tr style=\"text-align: right;\">\n",
       "      <th></th>\n",
       "      <th>0</th>\n",
       "      <th>1</th>\n",
       "      <th>2</th>\n",
       "      <th>3</th>\n",
       "      <th>4</th>\n",
       "      <th>5</th>\n",
       "      <th>6</th>\n",
       "      <th>7</th>\n",
       "      <th>8</th>\n",
       "    </tr>\n",
       "  </thead>\n",
       "  <tbody>\n",
       "    <tr>\n",
       "      <th>0</th>\n",
       "      <td>1</td>\n",
       "      <td>1</td>\n",
       "      <td>472</td>\n",
       "      <td>107</td>\n",
       "      <td>7</td>\n",
       "      <td>12</td>\n",
       "      <td>14</td>\n",
       "      <td>0</td>\n",
       "      <td>48.0</td>\n",
       "    </tr>\n",
       "    <tr>\n",
       "      <th>1</th>\n",
       "      <td>0</td>\n",
       "      <td>1</td>\n",
       "      <td>119</td>\n",
       "      <td>86</td>\n",
       "      <td>2</td>\n",
       "      <td>7</td>\n",
       "      <td>14</td>\n",
       "      <td>4</td>\n",
       "      <td>108.0</td>\n",
       "    </tr>\n",
       "    <tr>\n",
       "      <th>2</th>\n",
       "      <td>0</td>\n",
       "      <td>1</td>\n",
       "      <td>65</td>\n",
       "      <td>40</td>\n",
       "      <td>0</td>\n",
       "      <td>3</td>\n",
       "      <td>24</td>\n",
       "      <td>2</td>\n",
       "      <td>120.0</td>\n",
       "    </tr>\n",
       "    <tr>\n",
       "      <th>3</th>\n",
       "      <td>1</td>\n",
       "      <td>1</td>\n",
       "      <td>119</td>\n",
       "      <td>2</td>\n",
       "      <td>6</td>\n",
       "      <td>12</td>\n",
       "      <td>24</td>\n",
       "      <td>5</td>\n",
       "      <td>144.0</td>\n",
       "    </tr>\n",
       "    <tr>\n",
       "      <th>4</th>\n",
       "      <td>1</td>\n",
       "      <td>0</td>\n",
       "      <td>170</td>\n",
       "      <td>81</td>\n",
       "      <td>4</td>\n",
       "      <td>12</td>\n",
       "      <td>24</td>\n",
       "      <td>5</td>\n",
       "      <td>252.0</td>\n",
       "    </tr>\n",
       "  </tbody>\n",
       "</table>\n",
       "</div>"
      ],
      "text/plain": [
       "   0  1    2    3  4   5   6  7      8\n",
       "0  1  1  472  107  7  12  14  0   48.0\n",
       "1  0  1  119   86  2   7  14  4  108.0\n",
       "2  0  1   65   40  0   3  24  2  120.0\n",
       "3  1  1  119    2  6  12  24  5  144.0\n",
       "4  1  0  170   81  4  12  24  5  252.0"
      ]
     },
     "execution_count": 30,
     "metadata": {},
     "output_type": "execute_result"
    }
   ],
   "source": [
    "output_path\n",
    "import boto3\n",
    "import pandas as pd\n",
    "import io\n",
    "\n",
    "bucket = bucket\n",
    "key = \"sagemaker/adoption/train/train_data.csv\"\n",
    "\n",
    "# Load file from S3\n",
    "s3 = boto3.client(\"s3\")\n",
    "response = s3.get_object(Bucket=bucket, Key=key)\n",
    "body = response[\"Body\"].read()\n",
    "\n",
    "# Load into DataFrame \n",
    "df_preview = pd.read_csv(io.BytesIO(body), header=None)\n",
    "\n",
    "# Show first few rows\n",
    "print(df_preview.shape)\n",
    "df_preview.head()\n"
   ]
  },
  {
   "cell_type": "code",
   "execution_count": 31,
   "id": "3b29016c-8725-45b4-b787-fc63cf743828",
   "metadata": {
    "execution": {
     "iopub.execute_input": "2025-07-08T19:41:38.375850Z",
     "iopub.status.busy": "2025-07-08T19:41:38.375534Z",
     "iopub.status.idle": "2025-07-08T19:44:25.129209Z",
     "shell.execute_reply": "2025-07-08T19:44:25.128712Z",
     "shell.execute_reply.started": "2025-07-08T19:41:38.375830Z"
    }
   },
   "outputs": [
    {
     "name": "stderr",
     "output_type": "stream",
     "text": [
      "INFO:sagemaker:Creating training-job with name: adoption-XGBoost2025-07-08-19-41-38\n"
     ]
    },
    {
     "name": "stdout",
     "output_type": "stream",
     "text": [
      "Training job adoption-XGBoost2025-07-08-19-41-38\n",
      "Checkpoint path: s3://sagemaker-us-east-2-917456409349/sagemaker/adoption/checkpoints/adoption-XGBoost2025-07-08-19-41-38\n",
      "2025-07-08 19:41:39 Starting - Starting the training job...\n",
      "2025-07-08 19:42:12 Downloading - Downloading input data...\n",
      "2025-07-08 19:42:27 Downloading - Downloading the training image......\n",
      "2025-07-08 19:43:39 Training - Training image download completed. Training in progress.\n",
      "2025-07-08 19:43:39 Uploading - Uploading generated training model.\u001b[34m[2025-07-08 19:43:35.025 ip-10-0-240-214.us-east-2.compute.internal:7 INFO utils.py:28] RULE_JOB_STOP_SIGNAL_FILENAME: None\u001b[0m\n",
      "\u001b[34m[2025-07-08 19:43:35.048 ip-10-0-240-214.us-east-2.compute.internal:7 INFO profiler_config_parser.py:111] User has disabled profiler.\u001b[0m\n",
      "\u001b[34m[2025-07-08:19:43:35:INFO] Imported framework sagemaker_xgboost_container.training\u001b[0m\n",
      "\u001b[34m[2025-07-08:19:43:35:INFO] Failed to parse hyperparameter eval_metric value logloss to Json.\u001b[0m\n",
      "\u001b[34mReturning the value itself\u001b[0m\n",
      "\u001b[34m[2025-07-08:19:43:35:INFO] Failed to parse hyperparameter objective value binary:logistic to Json.\u001b[0m\n",
      "\u001b[34mReturning the value itself\u001b[0m\n",
      "\u001b[34m[2025-07-08:19:43:35:INFO] No GPUs detected (normal if no gpus installed)\u001b[0m\n",
      "\u001b[34m[2025-07-08:19:43:35:INFO] Running XGBoost Sagemaker in algorithm mode\u001b[0m\n",
      "\u001b[34m[2025-07-08:19:43:35:INFO] Determined 0 GPU(s) available on the instance.\u001b[0m\n",
      "\u001b[34m[2025-07-08:19:43:35:INFO] Determined delimiter of CSV input is ','\u001b[0m\n",
      "\u001b[34m[2025-07-08:19:43:35:INFO] File path /opt/ml/input/data/train of input files\u001b[0m\n",
      "\u001b[34m[2025-07-08:19:43:35:INFO] Making smlinks from folder /opt/ml/input/data/train to folder /tmp/sagemaker_xgboost_input_data\u001b[0m\n",
      "\u001b[34m[2025-07-08:19:43:35:INFO] creating symlink between Path /opt/ml/input/data/train/train_data.csv and destination /tmp/sagemaker_xgboost_input_data/train_data.csv-3023487738072084854\u001b[0m\n",
      "\u001b[34m[2025-07-08:19:43:35:INFO] files path: /tmp/sagemaker_xgboost_input_data\u001b[0m\n",
      "\u001b[34m[2025-07-08:19:43:35:INFO] Determined delimiter of CSV input is ','\u001b[0m\n",
      "\u001b[34m[2025-07-08:19:43:35:INFO] Single node training.\u001b[0m\n",
      "\u001b[34m[2025-07-08:19:43:35:INFO] Train matrix has 103412 rows and 8 columns\u001b[0m\n",
      "\u001b[34m[2025-07-08 19:43:35.500 ip-10-0-240-214.us-east-2.compute.internal:7 INFO json_config.py:92] Creating hook from json_config at /opt/ml/input/config/debughookconfig.json.\u001b[0m\n",
      "\u001b[34m[2025-07-08 19:43:35.500 ip-10-0-240-214.us-east-2.compute.internal:7 INFO hook.py:206] tensorboard_dir has not been set for the hook. SMDebug will not be exporting tensorboard summaries.\u001b[0m\n",
      "\u001b[34m[2025-07-08 19:43:35.501 ip-10-0-240-214.us-east-2.compute.internal:7 INFO hook.py:259] Saving to /opt/ml/output/tensors\u001b[0m\n",
      "\u001b[34m[2025-07-08:19:43:35:INFO] Debug hook created from config\u001b[0m\n",
      "\u001b[34m[19:43:35] INFO: ../src/tree/updater_prune.cc:98: tree pruning end, 50 extra nodes, 0 pruned nodes, max_depth=5\u001b[0m\n",
      "\u001b[34m[0]#011train-logloss:0.62346\u001b[0m\n",
      "\u001b[34m[2025-07-08 19:43:35.564 ip-10-0-240-214.us-east-2.compute.internal:7 INFO hook.py:427] Monitoring the collections: metrics\u001b[0m\n",
      "\u001b[34m[2025-07-08 19:43:35.569 ip-10-0-240-214.us-east-2.compute.internal:7 INFO hook.py:491] Hook is writing from the hook with pid: 7\u001b[0m\n",
      "\u001b[34m[19:43:35] INFO: ../src/tree/updater_prune.cc:98: tree pruning end, 48 extra nodes, 2 pruned nodes, max_depth=5\u001b[0m\n",
      "\u001b[34m[1]#011train-logloss:0.57798\u001b[0m\n",
      "\u001b[34m[19:43:35] INFO: ../src/tree/updater_prune.cc:98: tree pruning end, 50 extra nodes, 0 pruned nodes, max_depth=5\u001b[0m\n",
      "\u001b[34m[2]#011train-logloss:0.54452\u001b[0m\n",
      "\u001b[34m[19:43:35] INFO: ../src/tree/updater_prune.cc:98: tree pruning end, 48 extra nodes, 4 pruned nodes, max_depth=5\u001b[0m\n",
      "\u001b[34m[3]#011train-logloss:0.52038\u001b[0m\n",
      "\u001b[34m[19:43:35] INFO: ../src/tree/updater_prune.cc:98: tree pruning end, 48 extra nodes, 4 pruned nodes, max_depth=5\u001b[0m\n",
      "\u001b[34m[4]#011train-logloss:0.49985\u001b[0m\n",
      "\u001b[34m[19:43:35] INFO: ../src/tree/updater_prune.cc:98: tree pruning end, 44 extra nodes, 4 pruned nodes, max_depth=5\u001b[0m\n",
      "\u001b[34m[5]#011train-logloss:0.48612\u001b[0m\n",
      "\u001b[34m[19:43:35] INFO: ../src/tree/updater_prune.cc:98: tree pruning end, 44 extra nodes, 0 pruned nodes, max_depth=5\u001b[0m\n",
      "\u001b[34m[6]#011train-logloss:0.47386\u001b[0m\n",
      "\u001b[34m[19:43:35] INFO: ../src/tree/updater_prune.cc:98: tree pruning end, 48 extra nodes, 0 pruned nodes, max_depth=5\u001b[0m\n",
      "\u001b[34m[7]#011train-logloss:0.46601\u001b[0m\n",
      "\u001b[34m[19:43:35] INFO: ../src/tree/updater_prune.cc:98: tree pruning end, 44 extra nodes, 2 pruned nodes, max_depth=5\u001b[0m\n",
      "\u001b[34m[8]#011train-logloss:0.45854\u001b[0m\n",
      "\u001b[34m[19:43:35] INFO: ../src/tree/updater_prune.cc:98: tree pruning end, 42 extra nodes, 8 pruned nodes, max_depth=5\u001b[0m\n",
      "\u001b[34m[9]#011train-logloss:0.45218\u001b[0m\n",
      "\u001b[34m[19:43:35] INFO: ../src/tree/updater_prune.cc:98: tree pruning end, 44 extra nodes, 8 pruned nodes, max_depth=5\u001b[0m\n",
      "\u001b[34m[10]#011train-logloss:0.44746\u001b[0m\n",
      "\u001b[34m[19:43:35] INFO: ../src/tree/updater_prune.cc:98: tree pruning end, 50 extra nodes, 4 pruned nodes, max_depth=5\u001b[0m\n",
      "\u001b[34m[11]#011train-logloss:0.44296\u001b[0m\n",
      "\u001b[34m[19:43:35] INFO: ../src/tree/updater_prune.cc:98: tree pruning end, 46 extra nodes, 0 pruned nodes, max_depth=5\u001b[0m\n",
      "\u001b[34m[12]#011train-logloss:0.43872\u001b[0m\n",
      "\u001b[34m[19:43:35] INFO: ../src/tree/updater_prune.cc:98: tree pruning end, 50 extra nodes, 2 pruned nodes, max_depth=5\u001b[0m\n",
      "\u001b[34m[13]#011train-logloss:0.43559\u001b[0m\n",
      "\u001b[34m[19:43:35] INFO: ../src/tree/updater_prune.cc:98: tree pruning end, 40 extra nodes, 8 pruned nodes, max_depth=5\u001b[0m\n",
      "\u001b[34m[14]#011train-logloss:0.43264\u001b[0m\n",
      "\u001b[34m[19:43:35] INFO: ../src/tree/updater_prune.cc:98: tree pruning end, 36 extra nodes, 12 pruned nodes, max_depth=5\u001b[0m\n",
      "\u001b[34m[15]#011train-logloss:0.43145\u001b[0m\n",
      "\u001b[34m[19:43:35] INFO: ../src/tree/updater_prune.cc:98: tree pruning end, 30 extra nodes, 24 pruned nodes, max_depth=5\u001b[0m\n",
      "\u001b[34m[16]#011train-logloss:0.43062\u001b[0m\n",
      "\u001b[34m[19:43:35] INFO: ../src/tree/updater_prune.cc:98: tree pruning end, 46 extra nodes, 8 pruned nodes, max_depth=5\u001b[0m\n",
      "\u001b[34m[17]#011train-logloss:0.42816\u001b[0m\n",
      "\u001b[34m[19:43:35] INFO: ../src/tree/updater_prune.cc:98: tree pruning end, 40 extra nodes, 10 pruned nodes, max_depth=5\u001b[0m\n",
      "\u001b[34m[18]#011train-logloss:0.42684\u001b[0m\n",
      "\u001b[34m[19:43:35] INFO: ../src/tree/updater_prune.cc:98: tree pruning end, 58 extra nodes, 4 pruned nodes, max_depth=5\u001b[0m\n",
      "\u001b[34m[19]#011train-logloss:0.42419\u001b[0m\n",
      "\u001b[34m[19:43:35] INFO: ../src/tree/updater_prune.cc:98: tree pruning end, 40 extra nodes, 6 pruned nodes, max_depth=5\u001b[0m\n",
      "\u001b[34m[20]#011train-logloss:0.42287\u001b[0m\n",
      "\u001b[34m[19:43:35] INFO: ../src/tree/updater_prune.cc:98: tree pruning end, 26 extra nodes, 14 pruned nodes, max_depth=5\u001b[0m\n",
      "\u001b[34m[21]#011train-logloss:0.42223\u001b[0m\n",
      "\u001b[34m[19:43:35] INFO: ../src/tree/updater_prune.cc:98: tree pruning end, 48 extra nodes, 4 pruned nodes, max_depth=5\u001b[0m\n",
      "\u001b[34m[22]#011train-logloss:0.42137\u001b[0m\n",
      "\u001b[34m[19:43:35] INFO: ../src/tree/updater_prune.cc:98: tree pruning end, 54 extra nodes, 4 pruned nodes, max_depth=5\u001b[0m\n",
      "\u001b[34m[23]#011train-logloss:0.41910\u001b[0m\n",
      "\u001b[34m[19:43:36] INFO: ../src/tree/updater_prune.cc:98: tree pruning end, 28 extra nodes, 20 pruned nodes, max_depth=5\u001b[0m\n",
      "\u001b[34m[24]#011train-logloss:0.41881\u001b[0m\n",
      "\u001b[34m[19:43:36] INFO: ../src/tree/updater_prune.cc:98: tree pruning end, 52 extra nodes, 2 pruned nodes, max_depth=5\u001b[0m\n",
      "\u001b[34m[25]#011train-logloss:0.41781\u001b[0m\n",
      "\u001b[34m[19:43:36] INFO: ../src/tree/updater_prune.cc:98: tree pruning end, 26 extra nodes, 12 pruned nodes, max_depth=5\u001b[0m\n",
      "\u001b[34m[26]#011train-logloss:0.41685\u001b[0m\n",
      "\u001b[34m[19:43:36] INFO: ../src/tree/updater_prune.cc:98: tree pruning end, 42 extra nodes, 10 pruned nodes, max_depth=5\u001b[0m\n",
      "\u001b[34m[27]#011train-logloss:0.41570\u001b[0m\n",
      "\u001b[34m[19:43:36] INFO: ../src/tree/updater_prune.cc:98: tree pruning end, 32 extra nodes, 6 pruned nodes, max_depth=5\u001b[0m\n",
      "\u001b[34m[28]#011train-logloss:0.41536\u001b[0m\n",
      "\u001b[34m[19:43:36] INFO: ../src/tree/updater_prune.cc:98: tree pruning end, 28 extra nodes, 22 pruned nodes, max_depth=5\u001b[0m\n",
      "\u001b[34m[29]#011train-logloss:0.41496\u001b[0m\n",
      "\u001b[34m[19:43:36] INFO: ../src/tree/updater_prune.cc:98: tree pruning end, 26 extra nodes, 8 pruned nodes, max_depth=5\u001b[0m\n",
      "\u001b[34m[30]#011train-logloss:0.41467\u001b[0m\n",
      "\u001b[34m[19:43:36] INFO: ../src/tree/updater_prune.cc:98: tree pruning end, 50 extra nodes, 2 pruned nodes, max_depth=5\u001b[0m\n",
      "\u001b[34m[31]#011train-logloss:0.41317\u001b[0m\n",
      "\u001b[34m[19:43:36] INFO: ../src/tree/updater_prune.cc:98: tree pruning end, 32 extra nodes, 10 pruned nodes, max_depth=5\u001b[0m\n",
      "\u001b[34m[32]#011train-logloss:0.41247\u001b[0m\n",
      "\u001b[34m[19:43:36] INFO: ../src/tree/updater_prune.cc:98: tree pruning end, 42 extra nodes, 8 pruned nodes, max_depth=5\u001b[0m\n",
      "\u001b[34m[33]#011train-logloss:0.41190\u001b[0m\n",
      "\u001b[34m[19:43:36] INFO: ../src/tree/updater_prune.cc:98: tree pruning end, 44 extra nodes, 12 pruned nodes, max_depth=5\u001b[0m\n",
      "\u001b[34m[34]#011train-logloss:0.41121\u001b[0m\n",
      "\u001b[34m[19:43:36] INFO: ../src/tree/updater_prune.cc:98: tree pruning end, 48 extra nodes, 8 pruned nodes, max_depth=5\u001b[0m\n",
      "\u001b[34m[35]#011train-logloss:0.41058\u001b[0m\n",
      "\u001b[34m[19:43:36] INFO: ../src/tree/updater_prune.cc:98: tree pruning end, 36 extra nodes, 12 pruned nodes, max_depth=5\u001b[0m\n",
      "\u001b[34m[36]#011train-logloss:0.41019\u001b[0m\n",
      "\u001b[34m[19:43:36] INFO: ../src/tree/updater_prune.cc:98: tree pruning end, 54 extra nodes, 2 pruned nodes, max_depth=5\u001b[0m\n",
      "\u001b[34m[37]#011train-logloss:0.40964\u001b[0m\n",
      "\u001b[34m[19:43:36] INFO: ../src/tree/updater_prune.cc:98: tree pruning end, 52 extra nodes, 8 pruned nodes, max_depth=5\u001b[0m\n",
      "\u001b[34m[38]#011train-logloss:0.40925\u001b[0m\n",
      "\u001b[34m[19:43:36] INFO: ../src/tree/updater_prune.cc:98: tree pruning end, 30 extra nodes, 10 pruned nodes, max_depth=5\u001b[0m\n",
      "\u001b[34m[39]#011train-logloss:0.40879\u001b[0m\n",
      "\u001b[34m[19:43:36] INFO: ../src/tree/updater_prune.cc:98: tree pruning end, 18 extra nodes, 18 pruned nodes, max_depth=5\u001b[0m\n",
      "\u001b[34m[40]#011train-logloss:0.40868\u001b[0m\n",
      "\u001b[34m[19:43:36] INFO: ../src/tree/updater_prune.cc:98: tree pruning end, 36 extra nodes, 20 pruned nodes, max_depth=5\u001b[0m\n",
      "\u001b[34m[41]#011train-logloss:0.40823\u001b[0m\n",
      "\u001b[34m[19:43:36] INFO: ../src/tree/updater_prune.cc:98: tree pruning end, 32 extra nodes, 10 pruned nodes, max_depth=5\u001b[0m\n",
      "\u001b[34m[42]#011train-logloss:0.40798\u001b[0m\n",
      "\u001b[34m[19:43:36] INFO: ../src/tree/updater_prune.cc:98: tree pruning end, 26 extra nodes, 12 pruned nodes, max_depth=5\u001b[0m\n",
      "\u001b[34m[43]#011train-logloss:0.40778\u001b[0m\n",
      "\u001b[34m[19:43:36] INFO: ../src/tree/updater_prune.cc:98: tree pruning end, 38 extra nodes, 18 pruned nodes, max_depth=5\u001b[0m\n",
      "\u001b[34m[44]#011train-logloss:0.40718\u001b[0m\n",
      "\u001b[34m[19:43:36] INFO: ../src/tree/updater_prune.cc:98: tree pruning end, 58 extra nodes, 2 pruned nodes, max_depth=5\u001b[0m\n",
      "\u001b[34m[45]#011train-logloss:0.40646\u001b[0m\n",
      "\u001b[34m[19:43:36] INFO: ../src/tree/updater_prune.cc:98: tree pruning end, 36 extra nodes, 10 pruned nodes, max_depth=5\u001b[0m\n",
      "\u001b[34m[46]#011train-logloss:0.40624\u001b[0m\n",
      "\u001b[34m[19:43:36] INFO: ../src/tree/updater_prune.cc:98: tree pruning end, 56 extra nodes, 4 pruned nodes, max_depth=5\u001b[0m\n",
      "\u001b[34m[47]#011train-logloss:0.40587\u001b[0m\n",
      "\u001b[34m[19:43:36] INFO: ../src/tree/updater_prune.cc:98: tree pruning end, 46 extra nodes, 10 pruned nodes, max_depth=5\u001b[0m\n",
      "\u001b[34m[48]#011train-logloss:0.40565\u001b[0m\n",
      "\u001b[34m[19:43:36] INFO: ../src/tree/updater_prune.cc:98: tree pruning end, 28 extra nodes, 14 pruned nodes, max_depth=5\u001b[0m\n",
      "\u001b[34m[49]#011train-logloss:0.40565\u001b[0m\n",
      "\n",
      "2025-07-08 19:43:51 Completed - Training job completed\n",
      "Training seconds: 99\n",
      "Billable seconds: 41\n",
      "Managed Spot Training savings: 58.6%\n"
     ]
    }
   ],
   "source": [
    "#Training using predefined hyperparameters\n",
    "#Edit: Used code from example XGBoost Model Abalone\n",
    "#https://sagemaker-examples.readthedocs.io/en/latest/introduction_to_amazon_algorithms/xgboost_abalone/xgboost_managed_spot_training.html\n",
    "#7/4/25\n",
    "\n",
    "import time\n",
    "from sagemaker.inputs import TrainingInput\n",
    "\n",
    "job_name = \"adoption-XGBoost\" + time.strftime(\"%Y-%m-%d-%H-%M-%S\", time.gmtime())\n",
    "print(\"Training job\", job_name)\n",
    "\n",
    "use_spot_instances = True\n",
    "max_run = 3600\n",
    "max_wait = 7200 if use_spot_instances else None\n",
    "checkpoint_s3_uri = (\n",
    "    \"s3://{}/{}/checkpoints/{}\".format(bucket, prefix, job_name) if use_spot_instances else None\n",
    ")\n",
    "print(\"Checkpoint path:\", checkpoint_s3_uri)\n",
    "\n",
    "estimator = sagemaker.estimator.Estimator(\n",
    "    container,\n",
    "    role,\n",
    "    hyperparameters=hyperparameters,\n",
    "    instance_count=1,\n",
    "    instance_type=instance_type,\n",
    "    volume_size=5,  # 5 GB\n",
    "    output_path=output_path,\n",
    "    sagemaker_session=sagemaker.Session(),\n",
    "    use_spot_instances=use_spot_instances,#Edit\n",
    "    max_run=max_run, #Edit\n",
    "    max_wait=max_wait, #Edit\n",
    "    checkpoint_s3_uri=checkpoint_s3_uri #Edit\n",
    ")\n",
    "\n",
    "train_input = TrainingInput(\n",
    "    s3_data=\"s3://{}/{}/{}\".format(bucket, prefix, \"train\"), content_type=\"text/csv\"\n",
    ")\n",
    "estimator.fit({\"train\": train_input}, job_name=job_name)"
   ]
  },
  {
   "cell_type": "markdown",
   "id": "a1830e7d-4ed5-45af-85a6-d36079e35131",
   "metadata": {},
   "source": [
    "## Testing Sagemaker Endpoint Model - ONLY DO THIS TO TEST MODEL IS WORKING BEFORE TESTING ENDPOINT"
   ]
  },
  {
   "cell_type": "code",
   "execution_count": 60,
   "id": "9ae80886-183b-429e-9323-625875b94272",
   "metadata": {
    "execution": {
     "iopub.execute_input": "2025-07-08T21:01:22.972904Z",
     "iopub.status.busy": "2025-07-08T21:01:22.972578Z",
     "iopub.status.idle": "2025-07-08T21:01:23.097629Z",
     "shell.execute_reply": "2025-07-08T21:01:23.097125Z",
     "shell.execute_reply.started": "2025-07-08T21:01:22.972882Z"
    }
   },
   "outputs": [
    {
     "name": "stdout",
     "output_type": "stream",
     "text": [
      " model.tar.gz downloaded locally.\n"
     ]
    }
   ],
   "source": [
    "import boto3\n",
    "\n",
    "s3 = boto3.client('s3')\n",
    "bucket = 'sagemaker-us-east-2-917456409349'\n",
    "key = 'sagemaker/adoption/output/adoption-XGBoost2025-07-08-19-41-38/output/model.tar.gz'\n",
    "local_path = 'model.tar.gz'\n",
    "\n",
    "# Download model.tar.gz\n",
    "s3.download_file(bucket, key, local_path)\n",
    "print(\" model.tar.gz downloaded locally.\")\n",
    "\n",
    "#Edit: Can likely install tar.gz from training done by MengJiao"
   ]
  },
  {
   "cell_type": "code",
   "execution_count": 61,
   "id": "9022b738-87de-4e9c-965a-b8999cb9a983",
   "metadata": {
    "execution": {
     "iopub.execute_input": "2025-07-08T21:01:43.673612Z",
     "iopub.status.busy": "2025-07-08T21:01:43.673040Z",
     "iopub.status.idle": "2025-07-08T21:01:43.844797Z",
     "shell.execute_reply": "2025-07-08T21:01:43.844115Z",
     "shell.execute_reply.started": "2025-07-08T21:01:43.673592Z"
    }
   },
   "outputs": [
    {
     "name": "stdout",
     "output_type": "stream",
     "text": [
      " Extracted model files:\n",
      "xgboost-model\n"
     ]
    },
    {
     "name": "stderr",
     "output_type": "stream",
     "text": [
      "/tmp/ipykernel_565/3179333529.py:5: DeprecationWarning: Python 3.14 will, by default, filter extracted tar archives and reject files or modify their metadata. Use the filter argument to control this behavior.\n",
      "  tar.extractall(\"model_dir\")\n"
     ]
    }
   ],
   "source": [
    "import tarfile\n",
    "\n",
    "# Extract model.tar.gz\n",
    "with tarfile.open(\"model.tar.gz\") as tar:\n",
    "    tar.extractall(\"model_dir\")\n",
    "\n",
    "print(\" Extracted model files:\")\n",
    "!ls model_dir\n"
   ]
  },
  {
   "cell_type": "code",
   "execution_count": 62,
   "id": "7ac77ac5-9bc7-4cfe-bf49-ef49357c7b5d",
   "metadata": {
    "execution": {
     "iopub.execute_input": "2025-07-08T21:02:04.407861Z",
     "iopub.status.busy": "2025-07-08T21:02:04.407504Z",
     "iopub.status.idle": "2025-07-08T21:02:04.575531Z",
     "shell.execute_reply": "2025-07-08T21:02:04.574988Z",
     "shell.execute_reply.started": "2025-07-08T21:02:04.407835Z"
    }
   },
   "outputs": [
    {
     "data": {
      "image/png": "[encoded data removed]",
      "text/plain": [
       "<Figure size 640x480 with 1 Axes>"
      ]
     },
     "metadata": {},
     "output_type": "display_data"
    }
   ],
   "source": [
    "import matplotlib.pyplot as plt\n",
    "import xgboost as xgb\n",
    "\n",
    "# Load trained model\n",
    "booster = xgb.Booster()\n",
    "booster.load_model(\"model_dir/xgboost-model\")  # path from SageMaker tar.gz\n",
    "\n",
    "# Manually assign feature names \n",
    "booster.feature_names = [\n",
    "    \"animal_type\",\n",
    "    \"primary_breed_clean\",\n",
    "    \"primary_color_final\",\n",
    "    \"sex\",\n",
    "    \"intake_type_final\",\n",
    "    \"intake_subtype\",\n",
    "    \"intake_condition_final\",\n",
    "    \"age_months\"\n",
    "]\n",
    "\n",
    "# Plot feature importance\n",
    "xgb.plot_importance(booster, importance_type='weight', show_values=True)\n",
    "plt.title(\"Feature Importance (by frequency)\")\n",
    "plt.tight_layout()\n",
    "plt.show()\n",
    "\n",
    "\n"
   ]
  },
  {
   "cell_type": "code",
   "execution_count": 64,
   "id": "5b238589-975f-4c30-b400-6b25f35e4ae5",
   "metadata": {
    "editable": true,
    "execution": {
     "iopub.execute_input": "2025-07-08T21:08:20.695364Z",
     "iopub.status.busy": "2025-07-08T21:08:20.694973Z",
     "iopub.status.idle": "2025-07-08T21:08:20.902610Z",
     "shell.execute_reply": "2025-07-08T21:08:20.902015Z",
     "shell.execute_reply.started": "2025-07-08T21:08:20.695343Z"
    },
    "slideshow": {
     "slide_type": ""
    },
    "tags": []
   },
   "outputs": [
    {
     "name": "stdout",
     "output_type": "stream",
     "text": [
      "Training Set Performance:\n",
      "              precision    recall  f1-score   support\n",
      "\n",
      "           0       0.94      0.78      0.85     70695\n",
      "           1       0.65      0.89      0.75     32717\n",
      "\n",
      "    accuracy                           0.81    103412\n",
      "   macro avg       0.79      0.83      0.80    103412\n",
      "weighted avg       0.85      0.81      0.82    103412\n",
      "\n",
      "Validation Set Performance:\n",
      "              precision    recall  f1-score   support\n",
      "\n",
      "           0       0.96      0.72      0.82     18322\n",
      "           1       0.64      0.94      0.76      9761\n",
      "\n",
      "    accuracy                           0.79     28083\n",
      "   macro avg       0.80      0.83      0.79     28083\n",
      "weighted avg       0.85      0.79      0.80     28083\n",
      "\n",
      "Test Set Performance:\n",
      "              precision    recall  f1-score   support\n",
      "\n",
      "           0       0.41      0.71      0.52     12666\n",
      "           1       0.71      0.41      0.52     21866\n",
      "\n",
      "    accuracy                           0.52     34532\n",
      "   macro avg       0.56      0.56      0.52     34532\n",
      "weighted avg       0.60      0.52      0.52     34532\n",
      "\n",
      " Predicted labels distribution (val): [13721 14362]\n",
      " Predicted labels distribution (train): [58731 44681]\n",
      " Predicted labels distribution (test): [21842 12690]\n",
      " True labels:\n",
      "Train: [70695 32717]\n",
      "Val:   [18322  9761]\n",
      "Test:  [12666 21866]\n"
     ]
    }
   ],
   "source": [
    "## Local Testing of tar.gz model\n",
    "\n",
    "import xgboost as xgb\n",
    "from sklearn.metrics import classification_report\n",
    "import numpy as np\n",
    "\n",
    "# Load trained model\n",
    "booster = xgb.Booster()\n",
    "booster.load_model(\"model_dir/xgboost-model\")  \n",
    "\n",
    "# Prepare datasets\n",
    "X_train = df_train.drop(columns=[\"outcome_type_final_grouped\"])\n",
    "y_train = df_train[\"outcome_type_final_grouped\"]\n",
    "\n",
    "X_val = df_validate.drop(columns=[\"outcome_type_final_grouped\"])\n",
    "y_val = df_validate[\"outcome_type_final_grouped\"]\n",
    "\n",
    "X_test = df_test.drop(columns=[\"outcome_type_final_grouped\"])\n",
    "y_test = df_test[\"outcome_type_final_grouped\"]\n",
    "\n",
    "# Convert to DMatrix\n",
    "dtrain = xgb.DMatrix(X_train)\n",
    "dval = xgb.DMatrix(X_val)\n",
    "dtest = xgb.DMatrix(X_test)\n",
    "\n",
    "# Predict\n",
    "y_train_pred = booster.predict(dtrain)\n",
    "y_val_pred = booster.predict(dval)\n",
    "y_test_pred = booster.predict(dtest)\n",
    "\n",
    "# Round to binary labels\n",
    "y_train_pred_labels = (y_train_pred >= 0.5).astype(int)\n",
    "y_val_pred_labels = (y_val_pred >= 0.5).astype(int)\n",
    "y_test_pred_labels = (y_test_pred >= 0.5).astype(int)\n",
    "\n",
    "# Evaluate\n",
    "print(\"Training Set Performance:\")\n",
    "print(classification_report(y_train, y_train_pred_labels, zero_division=0))\n",
    "\n",
    "print(\"Validation Set Performance:\")\n",
    "print(classification_report(y_val, y_val_pred_labels, zero_division=0))\n",
    "\n",
    "print(\"Test Set Performance:\")\n",
    "print(classification_report(y_test, y_test_pred_labels, zero_division=0))\n",
    "\n",
    "# Prediction distributions\n",
    "print(\" Predicted labels distribution (val):\", np.bincount(y_val_pred_labels))\n",
    "print(\" Predicted labels distribution (train):\", np.bincount(y_train_pred_labels))\n",
    "print(\" Predicted labels distribution (test):\", np.bincount(y_test_pred_labels))\n",
    "\n",
    "# True label distributions\n",
    "print(\" True labels:\")\n",
    "print(\"Train:\", np.bincount(y_train))\n",
    "print(\"Val:  \", np.bincount(y_val))\n",
    "print(\"Test: \", np.bincount(y_test))\n",
    "\n"
   ]
  },
  {
   "cell_type": "code",
   "execution_count": 63,
   "id": "c6c6dedb-9287-406a-b74f-6449141a93d7",
   "metadata": {
    "execution": {
     "iopub.execute_input": "2025-07-08T21:04:47.999074Z",
     "iopub.status.busy": "2025-07-08T21:04:47.998747Z",
     "iopub.status.idle": "2025-07-08T21:04:48.510087Z",
     "shell.execute_reply": "2025-07-08T21:04:48.509516Z",
     "shell.execute_reply.started": "2025-07-08T21:04:47.999052Z"
    }
   },
   "outputs": [
    {
     "name": "stdout",
     "output_type": "stream",
     "text": [
      " Uploaded to s3://sagemaker-us-east-2-917456409349/sagemaker/adoption/downloadable/val_with_predictions.csv\n",
      " Uploaded to s3://sagemaker-us-east-2-917456409349/sagemaker/adoption/downloadable/test_with_predictions.csv\n"
     ]
    }
   ],
   "source": [
    "#OPTIONAL: Adding CSV with Predictions to S3 based on tar.gz downloaded model tested locally, may delete from final code #EDIT\n",
    "\n",
    "\n",
    "import boto3\n",
    "import io\n",
    "import xgboost as xgb\n",
    "import pandas as pd\n",
    "\n",
    "# Prepare feature matrices\n",
    "X_val = df_validate.drop(columns=[\"outcome_type_final_grouped\"])\n",
    "X_test = df_test.drop(columns=[\"outcome_type_final_grouped\"])\n",
    "\n",
    "dval = xgb.DMatrix(X_val)\n",
    "dtest = xgb.DMatrix(X_test)\n",
    "\n",
    "# Predict on Validation and Test\n",
    "y_val_pred = booster.predict(dval)\n",
    "y_val_pred_labels = (y_val_pred >= 0.5).astype(int)  # thresholding\n",
    "\n",
    "y_test_pred = booster.predict(dtest)\n",
    "y_test_pred_labels = (y_test_pred >= 0.5).astype(int)\n",
    "\n",
    "# Append predictions to original DataFrames\n",
    "df_val_with_preds = df_validate.copy()\n",
    "df_val_with_preds.insert(0, \"predicted_adoption\", y_val_pred_labels)\n",
    "df_val_with_preds.insert(1, \"adoption_probability\", y_val_pred.round(4))\n",
    "\n",
    "df_test_with_preds = df_test.copy()\n",
    "df_test_with_preds.insert(0, \"predicted_adoption\", y_test_pred_labels)\n",
    "df_test_with_preds.insert(1, \"adoption_probability\", y_test_pred.round(4))\n",
    "\n",
    "# Prep for uplaod to S3\n",
    "def upload_df_to_s3(df, s3_key, bucket, s3_client):\n",
    "    csv_buffer = io.StringIO()\n",
    "    df.to_csv(csv_buffer, index=False)\n",
    "    s3_client.put_object(Bucket=bucket, Key=s3_key, Body=csv_buffer.getvalue())\n",
    "    print(f\" Uploaded to s3://{bucket}/{s3_key}\")\n",
    "\n",
    "# Upload to S3\n",
    "s3_client = boto3.client(\"s3\")\n",
    "bucket = \"sagemaker-us-east-2-917456409349\"\n",
    "\n",
    "upload_df_to_s3(df_val_with_preds, \"sagemaker/adoption/downloadable/val_with_predictions.csv\", bucket, s3_client)\n",
    "upload_df_to_s3(df_test_with_preds, \"sagemaker/adoption/downloadable/test_with_predictions.csv\", bucket, s3_client)\n",
    "\n",
    "\n",
    "\n"
   ]
  },
  {
   "cell_type": "markdown",
   "id": "b225dece-cf27-4bb9-b94c-230a0ae046c7",
   "metadata": {
    "jp-MarkdownHeadingCollapsed": true
   },
   "source": [
    "## Setting up Endpoint - ONLY DO WHEN SETTING UP ENDPOINT OTHERWISE SKIP OVER"
   ]
  },
  {
   "cell_type": "code",
   "execution_count": 40,
   "id": "874cf2d6-b8e1-485e-88a6-17dc0b74784e",
   "metadata": {
    "execution": {
     "iopub.execute_input": "2025-07-08T19:58:01.343227Z",
     "iopub.status.busy": "2025-07-08T19:58:01.342889Z",
     "iopub.status.idle": "2025-07-08T20:15:08.813835Z",
     "shell.execute_reply": "2025-07-08T20:15:08.813337Z",
     "shell.execute_reply.started": "2025-07-08T19:58:01.343207Z"
    }
   },
   "outputs": [
    {
     "name": "stderr",
     "output_type": "stream",
     "text": [
      "INFO:sagemaker:Creating model with name: sagemaker-xgboost-2025-07-08-19-58-01-461\n",
      "INFO:sagemaker:Creating endpoint-config with name sagemaker-xgboost-2025-07-08-19-58-02-136\n",
      "INFO:sagemaker:Creating endpoint with name sagemaker-xgboost-2025-07-08-19-58-02-136\n"
     ]
    },
    {
     "name": "stdout",
     "output_type": "stream",
     "text": [
      "---------------------------------!"
     ]
    }
   ],
   "source": [
    "#EDIT/NOTE: Do this after locally testing Sagemaker Model for effectiveness.\n",
    "\n",
    "from sagemaker.serverless import ServerlessInferenceConfig\n",
    "from sagemaker.model import Model\n",
    "\n",
    "serverless_config = ServerlessInferenceConfig(\n",
    "    memory_size_in_mb=6144,\n",
    "    max_concurrency=3,\n",
    ")\n",
    "\n",
    "model = Model(\n",
    "    image_uri=container,\n",
    "    model_data=estimator.model_data,\n",
    "    role=role,\n",
    "    sagemaker_session=sagemaker.Session()\n",
    ")\n",
    "\n",
    "predictor = model.deploy(\n",
    "    serverless_inference_config=serverless_config\n",
    ")\n"
   ]
  },
  {
   "cell_type": "markdown",
   "id": "dadf704d-f1dd-4b51-88ba-f2e0f39eadf9",
   "metadata": {},
   "source": [
    "## Endpoint Testing\n"
   ]
  },
  {
   "cell_type": "code",
   "execution_count": 44,
   "id": "6f019d91-9fb1-4f5d-8bd5-211877dd7200",
   "metadata": {
    "execution": {
     "iopub.execute_input": "2025-07-08T20:30:47.806850Z",
     "iopub.status.busy": "2025-07-08T20:30:47.806528Z",
     "iopub.status.idle": "2025-07-08T20:30:47.809690Z",
     "shell.execute_reply": "2025-07-08T20:30:47.809171Z",
     "shell.execute_reply.started": "2025-07-08T20:30:47.806826Z"
    }
   },
   "outputs": [],
   "source": [
    "#EDIT: Make sure to manually update endpoint name\n",
    "endpoint_name = 'sagemaker-xgboost-2025-07-08-19-58-02-136'"
   ]
  },
  {
   "cell_type": "code",
   "execution_count": 46,
   "id": "5879c4ed-d3cf-4d79-aa16-772ac0659b7e",
   "metadata": {
    "execution": {
     "iopub.execute_input": "2025-07-08T20:30:48.826386Z",
     "iopub.status.busy": "2025-07-08T20:30:48.826066Z",
     "iopub.status.idle": "2025-07-08T20:30:48.829147Z",
     "shell.execute_reply": "2025-07-08T20:30:48.828610Z",
     "shell.execute_reply.started": "2025-07-08T20:30:48.826366Z"
    }
   },
   "outputs": [],
   "source": [
    "# #Note: Files sourced in S3 Have no Headers but columns are: [\n",
    "#     \"outcome_type_final_grouped\",  \n",
    "#     \"primary_breed_clean\",\n",
    "#     \"primary_color_final\",\n",
    "#     \"sex\",\n",
    "#     \"intake_type_final\",\n",
    "#     \"intake_subtype\",\n",
    "#     \"intake_condition_final\",\n",
    "#     \"age_months\"\n",
    "# ]"
   ]
  },
  {
   "cell_type": "code",
   "execution_count": 66,
   "id": "097e2844-5822-4313-becb-9e77b9fab316",
   "metadata": {
    "execution": {
     "iopub.execute_input": "2025-07-08T21:11:56.171255Z",
     "iopub.status.busy": "2025-07-08T21:11:56.170934Z",
     "iopub.status.idle": "2025-07-08T21:11:59.597655Z",
     "shell.execute_reply": "2025-07-08T21:11:59.597167Z",
     "shell.execute_reply.started": "2025-07-08T21:11:56.171236Z"
    }
   },
   "outputs": [
    {
     "name": "stdout",
     "output_type": "stream",
     "text": [
      " test Set Performance:\n",
      "              precision    recall  f1-score   support\n",
      "\n",
      "           0       0.41      0.71      0.52     12666\n",
      "           1       0.71      0.41      0.52     21866\n",
      "\n",
      "    accuracy                           0.52     34532\n",
      "   macro avg       0.56      0.56      0.52     34532\n",
      "weighted avg       0.60      0.52      0.52     34532\n",
      "\n"
     ]
    }
   ],
   "source": [
    "import boto3\n",
    "import pandas as pd\n",
    "import io\n",
    "import numpy as np\n",
    "from sagemaker.predictor import Predictor\n",
    "from sagemaker.serializers import CSVSerializer\n",
    "from sagemaker.deserializers import JSONDeserializer\n",
    "from sklearn.metrics import classification_report\n",
    "\n",
    "# configuring elements of s3\n",
    "# bucket = \"sagemaker-us-east-2-917456409349\"\n",
    "# prefix = \"sagemaker/adoption\"\n",
    "# endpoint_name = 'sagemaker-xgboost-2025-07-08-19-58-02-136'\n",
    "test_key = f\"{prefix}/test/test_data.csv\"\n",
    "batch_size = 500 #Edit: Can adjust batch size to minimize calls latency\n",
    "\n",
    "# initializing\n",
    "s3_client = boto3.client(\"s3\")\n",
    "predictor = Predictor(\n",
    "    endpoint_name=endpoint_name,\n",
    "    serializer=CSVSerializer(),\n",
    "    deserializer=JSONDeserializer()\n",
    ")\n",
    "\n",
    "# Load test data\n",
    "obj = s3_client.get_object(Bucket=bucket, Key=test_key)\n",
    "df = pd.read_csv(io.BytesIO(obj[\"Body\"].read()), header=None)\n",
    "\n",
    "# First column = label, rest = features\n",
    "y_true = df.iloc[:, 0].values\n",
    "X = df.iloc[:, 1:]\n",
    "\n",
    "# Batch predicting\n",
    "y_pred = []\n",
    "for i in range(0, len(X), batch_size):\n",
    "    batch = X.iloc[i:i + batch_size]\n",
    "    payload = \"\\n\".join([\",\".join(map(str, row)) for row in batch.values])\n",
    "    response = predictor.predict(payload)\n",
    "    scores = [p['score'] for p in response['predictions']]\n",
    "    y_pred.extend([round(score) for score in scores])\n",
    "\n",
    "# --- Evaluation ---\n",
    "print(\" test Set Performance:\")\n",
    "print(classification_report(y_true, y_pred))\n",
    "\n"
   ]
  },
  {
   "cell_type": "code",
   "execution_count": 67,
   "id": "32a71398-f2e2-4042-ab31-0c8e5bc12957",
   "metadata": {
    "execution": {
     "iopub.execute_input": "2025-07-08T21:13:41.575482Z",
     "iopub.status.busy": "2025-07-08T21:13:41.575152Z",
     "iopub.status.idle": "2025-07-08T21:13:56.945014Z",
     "shell.execute_reply": "2025-07-08T21:13:56.944488Z",
     "shell.execute_reply.started": "2025-07-08T21:13:41.575460Z"
    }
   },
   "outputs": [
    {
     "name": "stdout",
     "output_type": "stream",
     "text": [
      " train Set Performance:\n",
      "              precision    recall  f1-score   support\n",
      "\n",
      "           0       0.94      0.78      0.85     70695\n",
      "           1       0.65      0.89      0.75     32717\n",
      "\n",
      "    accuracy                           0.81    103412\n",
      "   macro avg       0.79      0.83      0.80    103412\n",
      "weighted avg       0.85      0.81      0.82    103412\n",
      "\n"
     ]
    }
   ],
   "source": [
    "#Testing on Train Data\n",
    "\n",
    "import boto3\n",
    "import pandas as pd\n",
    "import io\n",
    "import numpy as np\n",
    "from sagemaker.predictor import Predictor\n",
    "from sagemaker.serializers import CSVSerializer\n",
    "from sagemaker.deserializers import JSONDeserializer\n",
    "from sklearn.metrics import classification_report\n",
    "\n",
    "# configuring elements of s3\n",
    "# bucket = \"sagemaker-us-east-2-917456409349\"\n",
    "# prefix = \"sagemaker/adoption\"\n",
    "# endpoint_name = 'sagemaker-xgboost-2025-07-08-19-58-02-136'\n",
    "train_key = f\"{prefix}/train/train_data.csv\"\n",
    "batch_size = 500 #Edit: Can adjust batch size to minimize calls latency\n",
    "\n",
    "# initializing\n",
    "s3_client = boto3.client(\"s3\")\n",
    "predictor = Predictor(\n",
    "    endpoint_name=endpoint_name,\n",
    "    serializer=CSVSerializer(),\n",
    "    deserializer=JSONDeserializer()\n",
    ")\n",
    "\n",
    "# Load train data\n",
    "obj = s3_client.get_object(Bucket=bucket, Key=train_key)\n",
    "df = pd.read_csv(io.BytesIO(obj[\"Body\"].read()), header=None)\n",
    "\n",
    "# First column = label, rest = features\n",
    "y_true = df.iloc[:, 0].values\n",
    "X = df.iloc[:, 1:]\n",
    "\n",
    "# Batch predicting\n",
    "y_pred = []\n",
    "for i in range(0, len(X), batch_size):\n",
    "    batch = X.iloc[i:i + batch_size]\n",
    "    payload = \"\\n\".join([\",\".join(map(str, row)) for row in batch.values])\n",
    "    response = predictor.predict(payload)\n",
    "    scores = [p['score'] for p in response['predictions']]\n",
    "    y_pred.extend([round(score) for score in scores])\n",
    "\n",
    "# --- Evaluation ---\n",
    "print(\" train Set Performance:\")\n",
    "print(classification_report(y_true, y_pred))"
   ]
  },
  {
   "cell_type": "markdown",
   "id": "44b3d71d-bafb-46b7-bf65-76c8d1c691b9",
   "metadata": {},
   "source": [
    "## Endpoint Testing sending a Payload"
   ]
  },
  {
   "cell_type": "code",
   "execution_count": 68,
   "id": "aef70d33-11c7-4958-9f17-995194078ea2",
   "metadata": {
    "execution": {
     "iopub.execute_input": "2025-07-08T21:15:51.441390Z",
     "iopub.status.busy": "2025-07-08T21:15:51.441059Z",
     "iopub.status.idle": "2025-07-08T21:15:54.456243Z",
     "shell.execute_reply": "2025-07-08T21:15:54.455698Z",
     "shell.execute_reply.started": "2025-07-08T21:15:51.441369Z"
    }
   },
   "outputs": [
    {
     "name": "stdout",
     "output_type": "stream",
     "text": [
      " Saved test_with_predictions.csv with headers and predictions.\n"
     ]
    }
   ],
   "source": [
    "import pandas as pd\n",
    "from sagemaker.predictor import Predictor\n",
    "from sagemaker.serializers import CSVSerializer\n",
    "from sagemaker.deserializers import JSONDeserializer\n",
    "\n",
    "\n",
    "local_csv_path = \"test.csv\"\n",
    "endpoint_name = \"sagemaker-xgboost-2025-07-08-19-58-02-136\"\n",
    "batch_size = 500\n",
    "\n",
    "predictor = Predictor(\n",
    "    endpoint_name=endpoint_name,\n",
    "    serializer=CSVSerializer(),\n",
    "    deserializer=JSONDeserializer()\n",
    ")\n",
    "\n",
    "\n",
    "df_full = pd.read_csv(local_csv_path)\n",
    "original_columns = df_full.columns.tolist()\n",
    "\n",
    "\n",
    "# Drop first oclumn\n",
    "X = df_full.drop(columns=[original_columns[0]])\n",
    "\n",
    "\n",
    "preds = []\n",
    "for i in range(0, len(X), batch_size):\n",
    "    batch = X.iloc[i:i + batch_size]\n",
    "    payload = \"\\n\".join([\",\".join(map(str, row)) for row in batch.values])\n",
    "    response = predictor.predict(payload)\n",
    "    scores = [p[\"score\"] for p in response[\"predictions\"]]\n",
    "    preds.extend([round(score) for score in scores])\n",
    "\n",
    "\n",
    "df_with_preds = df_full.copy()\n",
    "df_with_preds[\"predicted\"] = preds\n",
    "\n",
    "\n",
    "df_with_preds.to_csv(\"test_with_predictions_endpointpayload.csv\", index=False)\n",
    "print(\" Saved test_with_predictions.csv with headers and predictions.\")\n"
   ]
  },
  {
   "cell_type": "code",
   "execution_count": 70,
   "id": "71977e07-dbd9-4dad-85f0-bb99045b470f",
   "metadata": {
    "execution": {
     "iopub.execute_input": "2025-07-08T21:16:46.617221Z",
     "iopub.status.busy": "2025-07-08T21:16:46.616884Z",
     "iopub.status.idle": "2025-07-08T21:16:46.771569Z",
     "shell.execute_reply": "2025-07-08T21:16:46.771096Z",
     "shell.execute_reply.started": "2025-07-08T21:16:46.617200Z"
    }
   },
   "outputs": [
    {
     "name": "stdout",
     "output_type": "stream",
     "text": [
      " Classification Report:\n",
      "              precision    recall  f1-score   support\n",
      "\n",
      "           0       0.41      0.71      0.52     12666\n",
      "           1       0.71      0.41      0.52     21866\n",
      "\n",
      "    accuracy                           0.52     34532\n",
      "   macro avg       0.56      0.56      0.52     34532\n",
      "weighted avg       0.60      0.52      0.52     34532\n",
      "\n"
     ]
    },
    {
     "data": {
      "image/png": "[encoded data removed]",
      "text/plain": [
       "<Figure size 640x480 with 2 Axes>"
      ]
     },
     "metadata": {},
     "output_type": "display_data"
    }
   ],
   "source": [
    "#Checking Endpoint Testing  via payload performance\n",
    "import pandas as pd\n",
    "from sklearn.metrics import classification_report, confusion_matrix, ConfusionMatrixDisplay\n",
    "import matplotlib.pyplot as plt\n",
    "\n",
    "\n",
    "df = pd.read_csv(\"test_with_predictions_endpointpayload.csv\")\n",
    "\n",
    "# True/pred labels\n",
    "y_true = df.iloc[:, 0]  # Assuming first column is true label\n",
    "y_pred = df[\"predicted\"]\n",
    "\n",
    "# Report out\n",
    "print(\" Classification Report:\")\n",
    "print(classification_report(y_true, y_pred))\n",
    "\n",
    "# confusion matrix\n",
    "cm = confusion_matrix(y_true, y_pred)\n",
    "disp = ConfusionMatrixDisplay(confusion_matrix=cm)\n",
    "disp.plot(cmap=\"Blues\", values_format=\"d\")\n",
    "plt.title(\"Confusion Matrix\")\n",
    "plt.show()\n"
   ]
  },
  {
   "cell_type": "markdown",
   "id": "c4667026-f126-45d6-8ccb-72f8aacc26fb",
   "metadata": {},
   "source": [
    "## Encoding Standardization for use on new csv."
   ]
  },
  {
   "cell_type": "code",
   "execution_count": 72,
   "id": "339d9f99-ed4d-4d83-88b2-5df91b188d5c",
   "metadata": {
    "execution": {
     "iopub.execute_input": "2025-07-08T21:18:08.103406Z",
     "iopub.status.busy": "2025-07-08T21:18:08.103090Z",
     "iopub.status.idle": "2025-07-08T21:18:30.770232Z",
     "shell.execute_reply": "2025-07-08T21:18:30.769708Z",
     "shell.execute_reply.started": "2025-07-08T21:18:08.103388Z"
    }
   },
   "outputs": [],
   "source": [
    "import pandas as pd\n",
    "import pickle\n",
    "\n",
    "#EDIT: Will have to update this with new data structure from Mengjiao\n",
    "\n",
    "# Load saved encoders\n",
    "with open(\"label_encoders.pkl\", \"rb\") as f:\n",
    "    le_dict = pickle.load(f)\n",
    "\n",
    "# load csv\n",
    "df_test = pd.read_csv(\"test.csv\")\n",
    "\n",
    "# handle missing age months as above\n",
    "median_age = df_test[\"age_months\"].median()\n",
    "df_test[\"age_months\"] = df_test[\"age_months\"].fillna(median_age)\n",
    "\n",
    "#applying encodings\n",
    "categorical_cols = [col for col in df_test.columns if col not in ['age_months', 'shelter', 'split', 'outcome_type_final_grouped']]\n",
    "\n",
    "for col in categorical_cols:\n",
    "    if col in le_dict:\n",
    "        le = le_dict[col]\n",
    "        known_classes = set(le.classes_)\n",
    "        df_test[col] = df_test[col].astype(str).apply(lambda x: le.transform([x])[0] if x in known_classes else -1)\n"
   ]
  },
  {
   "cell_type": "markdown",
   "id": "d3a92505-0559-4427-bebb-3f6ffb4436fb",
   "metadata": {},
   "source": [
    "## EDIT: Set up CSV Lambda ingestion and encoding"
   ]
  },
  {
   "cell_type": "code",
   "execution_count": null,
   "id": "bd7a08e8-ea21-455a-96b1-92b6a4aca4eb",
   "metadata": {},
   "outputs": [],
   "source": [
    "#coding needed"
   ]
  },
  {
   "cell_type": "markdown",
   "id": "93f07a8a-9528-49c7-b91c-b3670cd19ea2",
   "metadata": {},
   "source": [
    "## EDIT: Need to set up Lambda Inference via Endpoint"
   ]
  },
  {
   "cell_type": "code",
   "execution_count": 73,
   "id": "3bf2912d-561f-4e6e-8c48-37527a69cfc1",
   "metadata": {
    "execution": {
     "iopub.execute_input": "2025-07-08T21:23:22.653050Z",
     "iopub.status.busy": "2025-07-08T21:23:22.652712Z",
     "iopub.status.idle": "2025-07-08T21:23:22.655605Z",
     "shell.execute_reply": "2025-07-08T21:23:22.655148Z",
     "shell.execute_reply.started": "2025-07-08T21:23:22.653029Z"
    }
   },
   "outputs": [],
   "source": [
    "#Coding needed"
   ]
  },
  {
   "cell_type": "markdown",
   "id": "4767735c-4723-4dd7-b73a-42e124294916",
   "metadata": {},
   "source": [
    "## EDIT: Need to draw out prime features from XGBOOST or other model"
   ]
  },
  {
   "cell_type": "code",
   "execution_count": 74,
   "id": "ed6fba08-e78c-4294-a5d6-de219b78f444",
   "metadata": {
    "execution": {
     "iopub.execute_input": "2025-07-08T21:23:26.060853Z",
     "iopub.status.busy": "2025-07-08T21:23:26.060534Z",
     "iopub.status.idle": "2025-07-08T21:23:26.063444Z",
     "shell.execute_reply": "2025-07-08T21:23:26.062970Z",
     "shell.execute_reply.started": "2025-07-08T21:23:26.060833Z"
    }
   },
   "outputs": [],
   "source": [
    "#Coding Needed"
   ]
  },
  {
   "cell_type": "markdown",
   "id": "91063f61-c410-409c-8ce2-4bacaf09a22c",
   "metadata": {},
   "source": [
    "## EDIT: Athena or Streamlit takes scored CSV "
   ]
  },
  {
   "cell_type": "code",
   "execution_count": null,
   "id": "bd51cd13-aa91-4732-a604-418e36383491",
   "metadata": {},
   "outputs": [],
   "source": [
    "#Coding Needed"
   ]
  },
  {
   "cell_type": "markdown",
   "id": "88741b9f-69ab-4487-aa6d-448a98691578",
   "metadata": {},
   "source": [
    "## EDIT: Build Tableau Dashboard to Athena Tables"
   ]
  },
  {
   "cell_type": "code",
   "execution_count": null,
   "id": "722425da-c900-4887-9404-9ecf70e14629",
   "metadata": {},
   "outputs": [],
   "source": [
    "#Coding Needed"
   ]
  },
  {
   "cell_type": "code",
   "execution_count": null,
   "id": "5f1f808e-b1d0-4624-82bf-9a47d3c0a8f2",
   "metadata": {},
   "outputs": [],
   "source": []
  }
 ],
 "metadata": {
  "kernelspec": {
   "display_name": "Python 3 (ipykernel)",
   "language": "python",
   "name": "python3"
  },
  "language_info": {
   "codemirror_mode": {
    "name": "ipython",
    "version": 3
   },
   "file_extension": ".py",
   "mimetype": "text/x-python",
   "name": "python",
   "nbconvert_exporter": "python",
   "pygments_lexer": "ipython3",
   "version": "3.12.9"
  }
 },
 "nbformat": 4,
 "nbformat_minor": 5
}
